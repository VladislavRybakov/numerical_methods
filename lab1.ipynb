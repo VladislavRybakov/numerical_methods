{
 "cells": [
  {
   "cell_type": "markdown",
   "id": "9fb16223",
   "metadata": {},
   "source": [
    "# Лабораторная работа №1\n",
    "\n",
    "### Выполнил Рыбаков Владислав, БПМ201, 30 вариант\n",
    "\n",
    "Задания номер 1.1.30,  1.3.2,   1.7,   1.6,   1.10.6"
   ]
  },
  {
   "cell_type": "markdown",
   "id": "b9bfdebe",
   "metadata": {},
   "source": [
    "### Задание 1.1.30\n",
    "\n",
    "Дан ряд $$\\sum^\\infty_{n=0} \\frac{12}{5(n^2+6n+8)}   $$\n",
    "\n",
    "Найти сумму ряда  аналитически. Вычислить значения частичных сумм  ряда $ S_N = \\sum^N_{n=0} a_n  $ и найти величину погрешности при значениях $ N = 10, 10^2, 10^3, 10^4, 10^5 $"
   ]
  },
  {
   "cell_type": "markdown",
   "id": "6d3fab15",
   "metadata": {},
   "source": [
    "1. Найдем сумму ряда аналитически:\n",
    "\n",
    "$$ S_N = \\sum^N_{n=0} \\frac{12}{5(n^2+6n+8)} = \\\\ =\n",
    "\\frac{12}{5} \\sum^N_{n=0} \\frac{1}{(n+4)(n+2)} = \\frac{12}{5} \\sum^N_{n=0} \\frac{1}{2} \\left(\\frac{1}{n+2} -  \\frac{1}{n+4}\\right) = \\\\ = \\frac{6}{5} \\left( \\frac{1}{2} + \\frac{1}{3} - \\frac{1}{N+3} - \\frac{1}{N+4}   \\right)$$\n",
    "\n",
    "тогда при $N \\rightarrow \\infty $ получаем\n",
    "\n",
    "$$S = \\lim_{N \\rightarrow \\infty} S_N = 1 \\\\ \\text{ОТВЕТ: } S = \\sum^\\infty_{n=0} \\frac{12}{5(n^2+6n+8)} = 1 $$ "
   ]
  },
  {
   "cell_type": "code",
   "execution_count": 45,
   "id": "79a2ed79",
   "metadata": {},
   "outputs": [],
   "source": [
    "import numpy as np\n",
    "import matplotlib.pyplot as plt"
   ]
  },
  {
   "cell_type": "code",
   "execution_count": 46,
   "id": "ec4ef491",
   "metadata": {},
   "outputs": [],
   "source": [
    "# функция вычисления значения частичной суммы ряда\n",
    "def chast_sum(N):\n",
    "    return 6 / 5 * (1/2 + 1/3 - 1/(N+3) - 1/(N+4)) \n",
    "\n",
    "# функция вычисления абсолютной погрешности\n",
    "def pogr(a):\n",
    "    return abs(a - 1)"
   ]
  },
  {
   "cell_type": "code",
   "execution_count": 47,
   "id": "ae87b162",
   "metadata": {},
   "outputs": [
    {
     "name": "stdout",
     "output_type": "stream",
     "text": [
      "Значение частичной суммы ряда\tВеличина абсолютной погрешности\tКоличество верных цифр\n",
      "S(10) = 0.8219780219780219\t d(10) = 0.17802197802197806\t M10 = 1\n",
      "S(100) = 0.9768110530246452\t d(100) = 0.023188946975354785\t M100 = 2\n",
      "S(1000) = 0.997608370108797\t d(1000) = 0.0023916298912030065\t M1000 = 3\n",
      "S(10000) = 0.9997600839700108\t d(10000) = 0.0002399160299891845\t M10000 = 4\n",
      "S(100000) = 0.9999760008399698\t d(100000) = 2.3999160030152566e-05\t M100000 = 5\n"
     ]
    }
   ],
   "source": [
    "vern_zifr = [1, 2, 3, 4, 5] # массив верных цифр для каждого N (посчитали вручную)\n",
    "print(\"Значение частичной суммы ряда\\tВеличина абсолютной погрешности\\tКоличество верных цифр\")\n",
    "for j,i in enumerate([10, 100, 1000, 10000, 100000]):\n",
    "    print(\"S(\", i, \") = \", chast_sum(i), \"\\t d(\", i, \") = \", \n",
    "          pogr(chast_sum(i)), \"\\t M\", i, \" = \", vern_zifr[j] , sep=\"\")"
   ]
  },
  {
   "cell_type": "code",
   "execution_count": 48,
   "id": "2fa410e6",
   "metadata": {
    "scrolled": false
   },
   "outputs": [
    {
     "data": {
      "text/plain": [
       "<BarContainer object of 5 artists>"
      ]
     },
     "execution_count": 48,
     "metadata": {},
     "output_type": "execute_result"
    },
    {
     "data": {
      "image/png": "[encoded data removed]",
      "text/plain": [
       "<Figure size 480x400 with 1 Axes>"
      ]
     },
     "metadata": {},
     "output_type": "display_data"
    }
   ],
   "source": [
    "# гистограмма\n",
    "plt.figure(figsize=(6,5), dpi= 80)\n",
    "plt.bar(['10', '100', '1000', '10000', '100000'], [1, 2, 3, 4, 5])"
   ]
  },
  {
   "cell_type": "markdown",
   "id": "caef4620",
   "metadata": {},
   "source": [
    "**Вывод:** Как видно из приведенного вычислительного эксперимента и гистограммы, увеличение числа членов ряда в 10 раз по сравнению с предыдущим случаем увеличивает число верных цифр в ответе на 1."
   ]
  },
  {
   "cell_type": "markdown",
   "id": "73738f21",
   "metadata": {},
   "source": [
    "### Задание 1.3.2\n",
    "\n",
    "Для  заданной матрицы A найти обратную матрицу (если это возможно). Затем в элемент $a_{11}$  внести  погрешность в $10\\%$ и снова найти обратную матрицу.  Объяснить полученные результаты.\n",
    "\n",
    "\\begin{equation*}\n",
    "A =\n",
    "\\begin{pmatrix}\n",
    "2 & 4.4 & -2\\\\\n",
    "1 & 2 & -1\\\\\n",
    "3 & -5 & 0\n",
    "\\end{pmatrix}\n",
    "\\end{equation*}"
   ]
  },
  {
   "cell_type": "code",
   "execution_count": 49,
   "id": "91f82ffd",
   "metadata": {},
   "outputs": [
    {
     "data": {
      "text/plain": [
       "array([[ 2. ,  4.4, -2. ],\n",
       "       [ 1. ,  2. , -1. ],\n",
       "       [ 3. , -5. ,  0. ]])"
      ]
     },
     "execution_count": 49,
     "metadata": {},
     "output_type": "execute_result"
    }
   ],
   "source": [
    "A = np.array([[2,4.4,-2],[1,2,-1],[3,-5,0]], dtype=float)\n",
    "A"
   ]
  },
  {
   "cell_type": "code",
   "execution_count": 50,
   "id": "0ba21e8d",
   "metadata": {},
   "outputs": [
    {
     "data": {
      "text/plain": [
       "-1.1999999999999993"
      ]
     },
     "execution_count": 50,
     "metadata": {},
     "output_type": "execute_result"
    }
   ],
   "source": [
    "np.linalg.det(A)"
   ]
  },
  {
   "cell_type": "code",
   "execution_count": 51,
   "id": "d2c04f70",
   "metadata": {},
   "outputs": [
    {
     "data": {
      "text/plain": [
       "array([[  4.16666667,  -8.33333333,   0.33333333],\n",
       "       [  2.5       ,  -5.        ,   0.        ],\n",
       "       [  9.16666667, -19.33333333,   0.33333333]])"
      ]
     },
     "execution_count": 51,
     "metadata": {},
     "output_type": "execute_result"
    }
   ],
   "source": [
    "# определитель ненулевой, поэтому можно найти обратную матрицу\n",
    "A_inv = np.linalg.inv(A)\n",
    "A_inv"
   ]
  },
  {
   "cell_type": "code",
   "execution_count": 52,
   "id": "4518a91d",
   "metadata": {},
   "outputs": [
    {
     "data": {
      "text/plain": [
       "array([[ 2.2,  4.4, -2. ],\n",
       "       [ 1. ,  2. , -1. ],\n",
       "       [ 3. , -5. ,  0. ]])"
      ]
     },
     "execution_count": 52,
     "metadata": {},
     "output_type": "execute_result"
    }
   ],
   "source": [
    "# внесем погрешность в +10% к элементу а11\n",
    "A_new = np.array([[2*1.1,4.4,-2],[1,2,-1],[3,-5,0]], dtype=np.float64)\n",
    "A_new"
   ]
  },
  {
   "cell_type": "code",
   "execution_count": 53,
   "id": "11b16019",
   "metadata": {},
   "outputs": [
    {
     "data": {
      "text/plain": [
       "-2.200000000000001"
      ]
     },
     "execution_count": 53,
     "metadata": {},
     "output_type": "execute_result"
    }
   ],
   "source": [
    "np.linalg.det(A_new)"
   ]
  },
  {
   "cell_type": "code",
   "execution_count": 54,
   "id": "bcf2b6f7",
   "metadata": {},
   "outputs": [
    {
     "data": {
      "text/plain": [
       "array([[ 2.27272727e+00, -4.54545455e+00,  1.81818182e-01],\n",
       "       [ 1.36363636e+00, -2.72727273e+00, -9.09090909e-02],\n",
       "       [ 5.00000000e+00, -1.10000000e+01, -3.77475828e-16]])"
      ]
     },
     "execution_count": 54,
     "metadata": {},
     "output_type": "execute_result"
    }
   ],
   "source": [
    "# определитель ненулевой, поэтому можно найти обратную матрицу\n",
    "A_inv_new = np.linalg.inv(A_new)\n",
    "A_inv_new"
   ]
  },
  {
   "cell_type": "code",
   "execution_count": 55,
   "id": "5926ed76",
   "metadata": {},
   "outputs": [
    {
     "data": {
      "text/plain": [
       "array([[ 1.8,  4.4, -2. ],\n",
       "       [ 1. ,  2. , -1. ],\n",
       "       [ 3. , -5. ,  0. ]])"
      ]
     },
     "execution_count": 55,
     "metadata": {},
     "output_type": "execute_result"
    }
   ],
   "source": [
    "# внесем погрешность в -10% к элементу а11\n",
    "A_new = np.array([[2*0.9,4.4,-2],[1,2,-1],[3,-5,0]], dtype=np.float64)\n",
    "A_new"
   ]
  },
  {
   "cell_type": "code",
   "execution_count": 56,
   "id": "a4c10045",
   "metadata": {},
   "outputs": [
    {
     "data": {
      "text/plain": [
       "-0.20000000000000298"
      ]
     },
     "execution_count": 56,
     "metadata": {},
     "output_type": "execute_result"
    }
   ],
   "source": [
    "np.linalg.det(A_new)"
   ]
  },
  {
   "cell_type": "code",
   "execution_count": 57,
   "id": "e8b8e179",
   "metadata": {},
   "outputs": [
    {
     "data": {
      "text/plain": [
       "array([[  25.,  -50.,    2.],\n",
       "       [  15.,  -30.,    1.],\n",
       "       [  55., -111.,    4.]])"
      ]
     },
     "execution_count": 57,
     "metadata": {},
     "output_type": "execute_result"
    }
   ],
   "source": [
    "# определитель ненулевой, поэтому можно найти обратную матрицу\n",
    "A_inv_new = np.linalg.inv(A_new)\n",
    "A_inv_new"
   ]
  },
  {
   "cell_type": "markdown",
   "id": "94e0b90f",
   "metadata": {},
   "source": [
    "**Вывод:** как мы видим, при внесении в элемент $a_{11}$ погрешность в $+-10\\%$ определитель уменьшается/увеличивается на $1$ соответственно. При этом полученные обратные матрицы различаются достаточно сильно. Также, ни для какого из этих двух значений погрешности определитель не обращается в нуль."
   ]
  },
  {
   "cell_type": "markdown",
   "id": "1995853f",
   "metadata": {},
   "source": [
    "### Задание 1.6, 1.7\n",
    "\n",
    "Вычислить значения машинного нуля, машинной бесконечности, машинного  эпсилон в режимах  одинарной , двойной и расширенной точности на двух алгоритмических языках. Сравнить результаты. "
   ]
  },
  {
   "cell_type": "code",
   "execution_count": 58,
   "id": "c0beea55",
   "metadata": {},
   "outputs": [
    {
     "name": "stdout",
     "output_type": "stream",
     "text": [
      "<class 'numpy.float32'>\n",
      "Машинный эпсилон для float32: 2^-24\n",
      "\n",
      "<class 'numpy.float64'>\n",
      "Машинный эпсилон для float64: 2^-53\n",
      "\n",
      "<class 'numpy.longdouble'>\n",
      "Машинный эпсилон для longdouble: 2^-53\n",
      "\n"
     ]
    }
   ],
   "source": [
    "# машинный эпсилон \n",
    "i = 0\n",
    "eps_f = np.float32(1.0) # одинарная точность\n",
    "print(type(eps_f))\n",
    "while np.float32(1.0) + eps_f > np.float32(1.0):\n",
    "    eps_f /= np.float32(2.0)\n",
    "    i += 1\n",
    "    \n",
    "print(\"Машинный эпсилон для float32: 2^-\", i, sep='')\n",
    "print()\n",
    "\n",
    "\n",
    "i = 0\n",
    "eps_f = np.double(1.0) # двойная точность\n",
    "print(type(eps_f))\n",
    "while np.double(1.0) + eps_f > np.double(1.0):\n",
    "    eps_f /= np.double(2.0)\n",
    "    i += 1\n",
    "    \n",
    "print(\"Машинный эпсилон для float64: 2^-\", i, sep='')\n",
    "print()\n",
    "\n",
    "\n",
    "i = 0\n",
    "eps_f = np.longdouble(1.0) # расширенная точность\n",
    "print(type(eps_f))\n",
    "while np.longdouble(1.0) + eps_f > np.longdouble(1.0):\n",
    "    eps_f /= np.longdouble(2.0)\n",
    "    i += 1\n",
    "    \n",
    "print(\"Машинный эпсилон для longdouble: 2^-\", i, sep='')\n",
    "print()"
   ]
  },
  {
   "cell_type": "code",
   "execution_count": 59,
   "id": "b5423d73",
   "metadata": {},
   "outputs": [
    {
     "name": "stdout",
     "output_type": "stream",
     "text": [
      "Машинный нуль для float32: 2^-150\n",
      "Машинный нуль для float64: 2^-1075\n",
      "Машинный нуль для longdouble: 2^-1075\n"
     ]
    }
   ],
   "source": [
    "# машинный нуль\n",
    "i = 0\n",
    "x = np.float32(1) # одинарная точность\n",
    "while x != 0.:\n",
    "    x /= np.float32(2.0)\n",
    "    i += 1\n",
    "\n",
    "print(\"Машинный нуль для float32: 2^-\", i, sep='')\n",
    "\n",
    "\n",
    "i = 0\n",
    "x = np.float64(1) # двойная точность\n",
    "while x != 0.:\n",
    "    x /= np.float64(2.0)\n",
    "    i += 1\n",
    "\n",
    "print(\"Машинный нуль для float64: 2^-\", i, sep='')\n",
    "\n",
    "\n",
    "i = 0\n",
    "x = np.longdouble(1) # расширенная точность\n",
    "while x != 0.:\n",
    "    x /= np.longdouble(2.0)\n",
    "    i += 1\n",
    "\n",
    "print(\"Машинный нуль для longdouble: 2^-\", i, sep='')"
   ]
  },
  {
   "cell_type": "code",
   "execution_count": 60,
   "id": "47eaee6d",
   "metadata": {},
   "outputs": [
    {
     "name": "stdout",
     "output_type": "stream",
     "text": [
      "Машинная бесконечность для float32: 2^128\n",
      "Машинная бесконечность для float64: 2^1024\n",
      "Машинная бесконечность для longdouble: 2^1024\n"
     ]
    },
    {
     "name": "stderr",
     "output_type": "stream",
     "text": [
      "C:\\Users\\rybak\\AppData\\Local\\Temp\\ipykernel_5996\\3860104669.py:14: RuntimeWarning: overflow encountered in double_scalars\n",
      "  x *= 2\n",
      "C:\\Users\\rybak\\AppData\\Local\\Temp\\ipykernel_5996\\3860104669.py:23: RuntimeWarning: overflow encountered in longdouble_scalars\n",
      "  x *= 2\n"
     ]
    }
   ],
   "source": [
    "# машинная бесконечнсоть\n",
    "i = 0\n",
    "x = np.float32(1) # одинарная точность\n",
    "while x < np.finfo(np.float32).max:\n",
    "    x *= 2\n",
    "    i += 1\n",
    "    \n",
    "print(\"Машинная бесконечность для float32: 2^\", i, sep='')\n",
    "\n",
    "\n",
    "i = 0\n",
    "x = np.float64(1) # двойная точность\n",
    "while x < np.finfo(np.float64).max:\n",
    "    x *= 2\n",
    "    i += 1\n",
    "    \n",
    "print(\"Машинная бесконечность для float64: 2^\", i, sep='')\n",
    "\n",
    "\n",
    "i = 0\n",
    "x = np.longdouble(1) # расширенная точность\n",
    "while x < np.finfo(np.longdouble).max:\n",
    "    x *= 2\n",
    "    i += 1\n",
    "    \n",
    "print(\"Машинная бесконечность для longdouble: 2^\", i, sep='')"
   ]
  },
  {
   "cell_type": "markdown",
   "id": "ef0dc7d3",
   "metadata": {},
   "source": [
    "|                                        |  **C++**  | **Python** |\n",
    "|----------------------------------------|-----------|------------|\n",
    "| Машинный эпислон для float32           | 2^-24     | 2^-24      |\n",
    "| Машинный эпислон для float64           | 2^-53     | 2^-53      |\n",
    "| Машинный эпислон для longdouble        | 2^-53     | 2^-53      |\n",
    "|----------------------------------------|-----------|------------|\n",
    "| Машинный нуль для float32              | 2^-150    | 2^-150     |\n",
    "| Машинный нуль для float64              | 2^-1075   | 2^-1075    |\n",
    "| Машинный нуль для longdouble           | 2^-1075   | 2^-1075    |\n",
    "|----------------------------------------|-----------|------------|\n",
    "| Машинная бесконечность для float32     | 2^128     | 2^128      |\n",
    "| Машинная бесконечность для float64     | 2^1024    | 2^1024     |\n",
    "| Машинная бесконечность для longdouble  | 2^1024    | 2^1024     |\n",
    "\n",
    "\n",
    "\n",
    "Как видим из результатов работы программ, значения машинного эпсилона, машинного нуля и машинной бесконечности совпадают в обоих языках. Заметим также, что значения для float64(=double) и для longdouble совпадают. На Python это происходит потому, что в нем нет как такового типа longdouble, а в C++ длина longdouble определяется компилятором в зависимости от платформы - в моей платформе longdouble занимает 8 байт, так же как и простой double, поэтому и значения совпадают. (Windows 10)"
   ]
  },
  {
   "cell_type": "code",
   "execution_count": null,
   "id": "6ea32a3a",
   "metadata": {},
   "outputs": [],
   "source": [
    "# Код программы на C++\n",
    "'''\n",
    "#include <iostream>\n",
    "#include <math.h>\n",
    "#include <limits>\n",
    "\n",
    "int main() {\n",
    "  float res_f = 2;\n",
    "  double res_d = 2;\n",
    "  long double res_ld = 2;\n",
    "  int f = 1, d = 1, ld = 1;\n",
    "  while (res_f < std::numeric_limits<float>::infinity()) {\n",
    "    res_f *= 2;\n",
    "    f++;\n",
    "  }\n",
    "  while (res_d < std::numeric_limits<double>::infinity()) {\n",
    "    res_d *= 2;\n",
    "    d++;\n",
    "  }\n",
    "  while (res_ld < std::numeric_limits<long double>::infinity()) {\n",
    "    res_ld *= 2;\n",
    "    ld++;\n",
    "  }\n",
    "  std::cout << \"Maschine infinity:\\n\";\n",
    "  std::cout << \"float: 2^\" << f << std::endl;\n",
    "  std::cout << \"double: 2^\" << d << std::endl;\n",
    "  std::cout << \"long double: 2^\" << ld << std::endl;\n",
    "  std::cout << std::endl;\n",
    "\n",
    "  res_f = 1;\n",
    "  res_d = 1;\n",
    "  res_ld = 1;\n",
    "  d = 0;\n",
    "  f = 0;\n",
    "  ld = 0;\n",
    "  while (res_f != 0) {\n",
    "    res_f /= 2;\n",
    "    f--;\n",
    "  }\n",
    "  while (res_d != 0) {\n",
    "    res_d /= 2;\n",
    "    d--;\n",
    "  }\n",
    "  while (res_ld != 0) {\n",
    "    res_ld /= 2;\n",
    "    ld--;\n",
    "  }\n",
    "\n",
    "  std::cout << \"Maschine zero:\\n\";\n",
    "  std::cout << \"float: 2^\" << f << std::endl;\n",
    "  std::cout << \"double: 2^\" << d << std::endl;\n",
    "  std::cout << \"long double: 2^\" << ld << std::endl;\n",
    "  std::cout << std::endl;\n",
    "\n",
    "  res_f = 1;\n",
    "  res_d = 1;\n",
    "  res_ld = 1;\n",
    "  d = 0;\n",
    "  f = 0;\n",
    "  ld = 0;\n",
    "  while (1 + res_f > 1) {\n",
    "    res_f /= 2;\n",
    "    f--;\n",
    "  }\n",
    "  while (1 + res_d > 1) {\n",
    "    res_d /= 2;\n",
    "    d--;\n",
    "  }\n",
    "  while (1 + res_ld > 1) {\n",
    "    res_ld /= 2;\n",
    "    ld--;\n",
    "  }\n",
    "  std::cout << \"Maschine epsilon:\\n\";\n",
    "  std::cout << \"float: 2^\" << f << std::endl;\n",
    "  std::cout << \"double: 2^\" << d << std::endl;\n",
    "  std::cout << \"long double: 2^\" << ld << std::endl;\n",
    "  std::cout << std::endl;\n",
    "}\n",
    "'''"
   ]
  },
  {
   "cell_type": "code",
   "execution_count": 61,
   "id": "5e3d8c9e",
   "metadata": {},
   "outputs": [
    {
     "data": {
      "text/plain": [
       "'\\nРезультаты работы программы на C++:\\n\\nMaschine infinity:\\nfloat: 2^128\\ndouble: 2^1024\\nlong double: 2^1024\\n\\nMaschine zero:\\nfloat: 2^-150\\ndouble: 2^-1075\\nlong double: 2^-1075\\n\\nMaschine epsilon:\\nfloat: 2^-24\\ndouble: 2^-53\\nlong double: 2^-53\\n'"
      ]
     },
     "execution_count": 61,
     "metadata": {},
     "output_type": "execute_result"
    }
   ],
   "source": [
    "# Результаты работы программы на C++:\n",
    "'''\n",
    "Maschine infinity:\n",
    "float: 2^128\n",
    "double: 2^1024\n",
    "long double: 2^1024\n",
    "\n",
    "Maschine zero:\n",
    "float: 2^-150\n",
    "double: 2^-1075\n",
    "long double: 2^-1075\n",
    "\n",
    "Maschine epsilon:\n",
    "float: 2^-24\n",
    "double: 2^-53\n",
    "long double: 2^-53\n",
    "'''"
   ]
  },
  {
   "cell_type": "markdown",
   "id": "1cd8ed52",
   "metadata": {},
   "source": [
    "### Задание 1.10.6\n",
    "\n",
    "Три  вектора $$a_1 = (9, 17, 1),\\\\ a_2 = (27, 35, -18),\\\\ a_3 = (6, 14, 4)$$ заданы своими  координатами  в  базисе   $i , j , k $. Что  можно  сказать о компланарности этих  векторов, если: \n",
    "1)  координаты  векторов  заданы  точно\n",
    "2)  координаты  векторов  заданы  приближённо с  относительной  погрешностью\n",
    "    1) $\\delta = 0.5 \\%$\n",
    "    2) $\\delta = 0.1 \\%$\n"
   ]
  },
  {
   "cell_type": "code",
   "execution_count": 62,
   "id": "184c6f2d",
   "metadata": {},
   "outputs": [
    {
     "data": {
      "text/plain": [
       "array([[  9.,  17.,   1.],\n",
       "       [ 27.,  35., -18.],\n",
       "       [  6.,  14.,   4.]])"
      ]
     },
     "execution_count": 62,
     "metadata": {},
     "output_type": "execute_result"
    }
   ],
   "source": [
    "a1 = np.array([9, 17, 1])\n",
    "a2 = np.array([27, 35, -18])\n",
    "a3 = np.array([6, 14, 4])\n",
    "\n",
    "A = np.array([a1, a2, a3], dtype=float) # матрица векторов\n",
    "A"
   ]
  },
  {
   "cell_type": "code",
   "execution_count": 63,
   "id": "adc0f4a8",
   "metadata": {},
   "outputs": [
    {
     "data": {
      "text/plain": [
       "23.999999999999908"
      ]
     },
     "execution_count": 63,
     "metadata": {},
     "output_type": "execute_result"
    }
   ],
   "source": [
    "# 1) проверим вектора на компланарность\n",
    "np.linalg.det(A)"
   ]
  },
  {
   "cell_type": "markdown",
   "id": "14fc3aeb",
   "metadata": {},
   "source": [
    "если координаты векторов заданы точно, то вектора не компланарны"
   ]
  },
  {
   "cell_type": "code",
   "execution_count": 72,
   "id": "640103ee",
   "metadata": {},
   "outputs": [],
   "source": [
    "def next_sost(arr): # увеличивает на 1 двоичное число, представленное в виде списка, где 1 это +погрешность, а -1 это -погрешность\n",
    "    for i in range(len(arr)):\n",
    "        if arr[i] == -1:\n",
    "            arr[i] = 1\n",
    "        else:\n",
    "            arr[i] = -1 \n",
    "            break\n",
    "    return arr\n",
    "\n",
    "def changeMatrix(matrix, change_list, pogr): # вносит погрешность в матрицу векторов, согласно change_list\n",
    "    matrix = np.concatenate(matrix, axis=0)\n",
    "    for i,k in enumerate(change_list):\n",
    "        if k == -1:\n",
    "            matrix[i] = matrix[i] - matrix[i]*pogr\n",
    "        elif k == 1:\n",
    "            matrix[i] = matrix[i] + matrix[i]*pogr\n",
    "    matrix.resize(3,3)\n",
    "    return matrix"
   ]
  },
  {
   "cell_type": "code",
   "execution_count": 73,
   "id": "0ba8e75b",
   "metadata": {},
   "outputs": [
    {
     "name": "stdout",
     "output_type": "stream",
     "text": [
      "Минимальное и максимальное возможное значение определителя:\n",
      "-53.837505000000185\n",
      "101.92270500000025\n"
     ]
    }
   ],
   "source": [
    "# a) погрешность равна 0.5%\n",
    "pogr_list = np.ones(9)\n",
    "det_list = np.zeros(2**9)\n",
    "\n",
    "for i in range(2**9):\n",
    "    pogr_list = next_sost(pogr_list)\n",
    "    A_copy = changeMatrix(A.copy(), pogr_list, 0.005)\n",
    "    det_list[i] = np.linalg.det(A_copy)\n",
    "    \n",
    "print(\"Минимальное и максимальное возможное значение определителя:\", det_list.min(), det_list.max(), sep='\\n')"
   ]
  },
  {
   "cell_type": "markdown",
   "id": "9d57f2b6",
   "metadata": {},
   "source": [
    "Как мы видим, данный отрезок содержит $0$, а это значит, что при погрешности, равной $0.5\\%$, векторы **могут быть компланарны.**"
   ]
  },
  {
   "cell_type": "code",
   "execution_count": 74,
   "id": "a3ae67f4",
   "metadata": {},
   "outputs": [
    {
     "name": "stdout",
     "output_type": "stream",
     "text": [
      "Минимальное и максимальное возможное значение определителя:\n",
      "8.42570316000006\n",
      "39.57770484000009\n"
     ]
    }
   ],
   "source": [
    "# б) погрешность равна 0.1%\n",
    "pogr_list = np.ones(9)\n",
    "det_list = np.zeros(2**9)\n",
    "\n",
    "for i in range(2**9):\n",
    "    pogr_list = next_sost(pogr_list)\n",
    "    A_copy = changeMatrix(A.copy(), pogr_list, 0.001)\n",
    "    det_list[i] = np.linalg.det(A_copy)\n",
    "    \n",
    "print(\"Минимальное и максимальное возможное значение определителя:\", det_list.min(), det_list.max(), sep='\\n')"
   ]
  },
  {
   "cell_type": "markdown",
   "id": "6520c391",
   "metadata": {},
   "source": [
    "А при погрешности в $0.1\\%$ отрезок не содержит $0$, поэтому при такой погрешности вектора **быть компланарными не могут**"
   ]
  }
 ],
 "metadata": {
  "kernelspec": {
   "display_name": "Python 3 (ipykernel)",
   "language": "python",
   "name": "python3"
  },
  "language_info": {
   "codemirror_mode": {
    "name": "ipython",
    "version": 3
   },
   "file_extension": ".py",
   "mimetype": "text/x-python",
   "name": "python",
   "nbconvert_exporter": "python",
   "pygments_lexer": "ipython3",
   "version": "3.10.8"
  }
 },
 "nbformat": 4,
 "nbformat_minor": 5
}
