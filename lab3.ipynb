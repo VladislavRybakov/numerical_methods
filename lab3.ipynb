{
 "cells": [
  {
   "cell_type": "markdown",
   "id": "b87d13e4",
   "metadata": {},
   "source": [
    "# Лабораторная работа №3\n",
    "\n",
    "### Выполнил Рыбаков Владислав, БПМ201, 30 вариант\n",
    "\n",
    "Задания 3.1.30, 3.4, 3.9.6**"
   ]
  },
  {
   "cell_type": "markdown",
   "id": "c0c8cd2d",
   "metadata": {},
   "source": [
    "### Задание 3.1.30\n",
    "\n",
    "Дана система уравнений Ax=b порядка n. Исследовать зависимость погрешности решения x от\n",
    "погрешностей правой части системы b.\n",
    "\n",
    "$$ b_i = 30 $$\n",
    "$$ c = c_{ij} = 0.1 \\cdot 30 \\cdot i \\cdot j $$\n",
    "$$ a_{ij} = \\frac{1}{0.4 c^3 + 20c} $$"
   ]
  },
  {
   "cell_type": "code",
   "execution_count": 123,
   "id": "9d77514c",
   "metadata": {},
   "outputs": [],
   "source": [
    "import numpy as np\n",
    "import matplotlib.pyplot as plt"
   ]
  },
  {
   "cell_type": "code",
   "execution_count": 147,
   "id": "b4d36500",
   "metadata": {},
   "outputs": [
    {
     "data": {
      "text/plain": [
       "matrix([[1.41242938e-02, 4.84496124e-03, 2.12044105e-03, 1.07388316e-03,\n",
       "         6.06060606e-04],\n",
       "        [4.84496124e-03, 1.07388316e-03, 3.71360665e-04, 1.66400426e-04,\n",
       "         8.77192982e-05],\n",
       "        [2.12044105e-03, 3.71360665e-04, 1.18860838e-04, 5.15931980e-05,\n",
       "         2.67737617e-05],\n",
       "        [1.07388316e-03, 1.66400426e-04, 5.15931980e-05, 2.21254602e-05,\n",
       "         1.14155251e-05],\n",
       "        [6.06060606e-04, 8.77192982e-05, 2.67737617e-05, 1.14155251e-05,\n",
       "         5.87371512e-06]])"
      ]
     },
     "execution_count": 147,
     "metadata": {},
     "output_type": "execute_result"
    }
   ],
   "source": [
    "n = 5  # размерность\n",
    "A = np.matrix([[0. for y in range(n)] for x in range(n)])\n",
    "for i in range(n):\n",
    "    for j in range(n):\n",
    "        c = 0.1 * 30 * (i+1) * (j+1)\n",
    "        a = 1 / (0.4 * c**3 + 20*c)\n",
    "        A[i,j] = a\n",
    "A"
   ]
  },
  {
   "cell_type": "code",
   "execution_count": 148,
   "id": "fc125ab9",
   "metadata": {},
   "outputs": [
    {
     "data": {
      "text/plain": [
       "array([30., 30., 30., 30., 30.])"
      ]
     },
     "execution_count": 148,
     "metadata": {},
     "output_type": "execute_result"
    }
   ],
   "source": [
    "b = np.array([30. for y in range(n)])\n",
    "b"
   ]
  },
  {
   "cell_type": "code",
   "execution_count": 149,
   "id": "7b484d1c",
   "metadata": {},
   "outputs": [
    {
     "data": {
      "text/plain": [
       "array([ 2.81598727e+06, -3.51110702e+08,  5.71302494e+09, -2.23569410e+10,\n",
       "        2.23673733e+10])"
      ]
     },
     "execution_count": 149,
     "metadata": {},
     "output_type": "execute_result"
    }
   ],
   "source": [
    "# 1) найдем решение СЛАУ Ax=b\n",
    "x = np.linalg.solve(A, b)\n",
    "x"
   ]
  },
  {
   "cell_type": "code",
   "execution_count": 150,
   "id": "89f7e40a",
   "metadata": {},
   "outputs": [
    {
     "data": {
      "text/plain": [
       "102058007.01161169"
      ]
     },
     "execution_count": 150,
     "metadata": {},
     "output_type": "execute_result"
    }
   ],
   "source": [
    "# 2) число обусловленности матрицы\n",
    "np.linalg.cond(A)"
   ]
  },
  {
   "cell_type": "code",
   "execution_count": 151,
   "id": "d8c69cba",
   "metadata": {},
   "outputs": [
    {
     "data": {
      "text/plain": [
       "[4.53165994213931e-05,\n",
       " 0.006275262235647786,\n",
       " 0.10445187080566078,\n",
       " 0.4121184759245252,\n",
       " 0.41389655075509035]"
      ]
     },
     "execution_count": 151,
     "metadata": {},
     "output_type": "execute_result"
    }
   ],
   "source": [
    "# 3) находим вектор d\n",
    "d = [0,0,0,0,0]\n",
    "for i in range(n):\n",
    "    b[i] += 3\n",
    "    xi = np.linalg.solve(A, b)\n",
    "    b[i] -= 3\n",
    "    d[i] = (max(abs(x-xi))) / (max(abs(x)))\n",
    "d"
   ]
  },
  {
   "cell_type": "code",
   "execution_count": 152,
   "id": "d92b0c7a",
   "metadata": {},
   "outputs": [
    {
     "data": {
      "text/plain": [
       "<BarContainer object of 5 artists>"
      ]
     },
     "execution_count": 152,
     "metadata": {},
     "output_type": "execute_result"
    },
    {
     "data": {
      "image/png": "[encoded data removed]",
      "text/plain": [
       "<Figure size 480x400 with 1 Axes>"
      ]
     },
     "metadata": {},
     "output_type": "display_data"
    }
   ],
   "source": [
    "# 4) построим гистограмму\n",
    "plt.figure(figsize=(6,5), dpi= 80)\n",
    "plt.bar([1,2,3,4,5], d)"
   ]
  },
  {
   "cell_type": "markdown",
   "id": "7f622645",
   "metadata": {},
   "source": [
    "Как видим, 4 и 5 компоненты практически одинаково сильно оказывают влияние на решение, но поскольку 5 все же чуть больше, то за $b_m$ возьмем ее. "
   ]
  },
  {
   "cell_type": "code",
   "execution_count": 153,
   "id": "da87f6cb",
   "metadata": {},
   "outputs": [],
   "source": [
    "bm = np.array([30. for y in range(n)])\n",
    "bm[4] += 3\n",
    "xm = np.linalg.solve(A, bm)"
   ]
  },
  {
   "cell_type": "code",
   "execution_count": 154,
   "id": "2ca27761",
   "metadata": {},
   "outputs": [
    {
     "data": {
      "text/plain": [
       "0.41389655075509035"
      ]
     },
     "execution_count": 154,
     "metadata": {},
     "output_type": "execute_result"
    }
   ],
   "source": [
    "deltax = (max(abs(x-xm))) / (max(abs(x)))\n",
    "deltax"
   ]
  },
  {
   "cell_type": "code",
   "execution_count": 155,
   "id": "e3af3d74",
   "metadata": {},
   "outputs": [
    {
     "data": {
      "text/plain": [
       "0.1"
      ]
     },
     "execution_count": 155,
     "metadata": {},
     "output_type": "execute_result"
    }
   ],
   "source": [
    "deltab = (max(abs(b-bm))) / (max(abs(b)))\n",
    "deltab"
   ]
  },
  {
   "cell_type": "code",
   "execution_count": 156,
   "id": "47b9292f",
   "metadata": {},
   "outputs": [
    {
     "data": {
      "text/plain": [
       "102058007.01161169"
      ]
     },
     "execution_count": 156,
     "metadata": {},
     "output_type": "execute_result"
    }
   ],
   "source": [
    "np.linalg.cond(A)"
   ]
  },
  {
   "cell_type": "code",
   "execution_count": 157,
   "id": "2856190a",
   "metadata": {},
   "outputs": [
    {
     "name": "stdout",
     "output_type": "stream",
     "text": [
      "True\n"
     ]
    }
   ],
   "source": [
    "print(deltax <= np.linalg.cond(A) * deltab)"
   ]
  },
  {
   "cell_type": "code",
   "execution_count": 158,
   "id": "6eff97f3",
   "metadata": {},
   "outputs": [
    {
     "data": {
      "text/plain": [
       "True"
      ]
     },
     "execution_count": 158,
     "metadata": {},
     "output_type": "execute_result"
    }
   ],
   "source": [
    "deltax == d[4]"
   ]
  },
  {
   "cell_type": "markdown",
   "id": "e89eb023",
   "metadata": {},
   "source": [
    "**Погрешности совпадают**"
   ]
  },
  {
   "cell_type": "markdown",
   "id": "3437a879",
   "metadata": {},
   "source": [
    "### Задание 3.4\n",
    "\n",
    "Решить систему уравнений Ax=b из задачи 3.1, используя LU-разложение матрицы A."
   ]
  },
  {
   "cell_type": "code",
   "execution_count": 93,
   "id": "7c232b1d",
   "metadata": {},
   "outputs": [],
   "source": [
    "# сделаем LU-разложение матрицы\n",
    "def decompose_to_LU(a):\n",
    "    lu_matrix = np.matrix(np.zeros([a.shape[0], a.shape[1]]))\n",
    "    n = a.shape[0]\n",
    "\n",
    "    for k in range(n):\n",
    "        # вычисляем все остаточные элементы k-строки\n",
    "        for j in range(k, n):\n",
    "            lu_matrix[k, j] = a[k, j] - lu_matrix[k, :k] * lu_matrix[:k, j]\n",
    "        # вычисляем все остаточные элементы k-столбца\n",
    "        for i in range(k + 1, n):\n",
    "            lu_matrix[i, k] = (a[i, k] - lu_matrix[i, : k] * lu_matrix[: k, k]) / lu_matrix[k, k]\n",
    "\n",
    "    return lu_matrix\n",
    "\n",
    "\n",
    "def get_L(m):\n",
    "    L = m.copy()\n",
    "    for i in range(L.shape[0]):\n",
    "            L[i, i] = 1\n",
    "            L[i, i+1 :] = 0\n",
    "    return np.matrix(L)\n",
    "\n",
    "\n",
    "def get_U(m):\n",
    "    U = m.copy()\n",
    "    for i in range(1, U.shape[0]):\n",
    "        U[i, :i] = 0\n",
    "    return U"
   ]
  },
  {
   "cell_type": "code",
   "execution_count": 94,
   "id": "33e087fd",
   "metadata": {},
   "outputs": [
    {
     "name": "stdout",
     "output_type": "stream",
     "text": [
      "[[1.         0.         0.         0.         0.        ]\n",
      " [0.34302326 1.         0.         0.         0.        ]\n",
      " [0.15012723 0.60538932 1.         0.         0.        ]\n",
      " [0.07603093 0.34345048 0.78801232 1.         0.        ]\n",
      " [0.04290909 0.20435904 0.53226481 0.99570406 1.        ]]\n",
      "\n",
      "[[ 1.41242938e-02  4.84496124e-03  2.12044105e-03  1.07388316e-03\n",
      "   6.06060606e-04]\n",
      " [ 0.00000000e+00 -5.88051217e-04 -3.55999928e-04 -2.01966472e-04\n",
      "  -1.20173584e-04]\n",
      " [ 0.00000000e+00  0.00000000e+00  1.60434587e-05  1.26424432e-05\n",
      "   8.53936844e-06]\n",
      " [ 0.00000000e+00  0.00000000e+00  0.00000000e+00 -1.19792243e-07\n",
      "  -1.19277623e-07]\n",
      " [ 0.00000000e+00  0.00000000e+00  0.00000000e+00  0.00000000e+00\n",
      "   3.24051818e-10]]\n"
     ]
    }
   ],
   "source": [
    "LU = decompose_to_LU(A)\n",
    "L = get_L(LU)\n",
    "U = get_U(LU)\n",
    "print(L, U, sep='\\n\\n')"
   ]
  },
  {
   "cell_type": "code",
   "execution_count": 103,
   "id": "6e6f87bf",
   "metadata": {},
   "outputs": [
    {
     "data": {
      "text/plain": [
       "array([30.        , 19.70930233, 13.56438203, 10.26100263,  7.24818797])"
      ]
     },
     "execution_count": 103,
     "metadata": {},
     "output_type": "execute_result"
    }
   ],
   "source": [
    "b = np.array([30. for y in range(n)])\n",
    "c = np.linalg.solve(L, b)\n",
    "c"
   ]
  },
  {
   "cell_type": "code",
   "execution_count": 104,
   "id": "14f2c4c4",
   "metadata": {},
   "outputs": [
    {
     "data": {
      "text/plain": [
       "array([ 2.81598727e+06, -3.51110702e+08,  5.71302494e+09, -2.23569410e+10,\n",
       "        2.23673733e+10])"
      ]
     },
     "execution_count": 104,
     "metadata": {},
     "output_type": "execute_result"
    }
   ],
   "source": [
    "xlu = np.linalg.solve(U, c)\n",
    "xlu"
   ]
  },
  {
   "cell_type": "code",
   "execution_count": 107,
   "id": "5c33406b",
   "metadata": {},
   "outputs": [
    {
     "name": "stdout",
     "output_type": "stream",
     "text": [
      "[ 2.81598727e+06 -3.51110702e+08  5.71302494e+09 -2.23569410e+10\n",
      "  2.23673733e+10] \n",
      " [ 2.81598727e+06 -3.51110702e+08  5.71302494e+09 -2.23569410e+10\n",
      "  2.23673733e+10]\n"
     ]
    }
   ],
   "source": [
    "print(x, '\\n', xlu)"
   ]
  },
  {
   "cell_type": "markdown",
   "id": "75b46137",
   "metadata": {},
   "source": [
    "**Как мы видим, результаты совпадают с полученными нами ранее.**"
   ]
  },
  {
   "cell_type": "markdown",
   "id": "f1139e1d",
   "metadata": {},
   "source": [
    "### Задание 3.9.6 (3.5.6)\n",
    "\n",
    "Решить систему уравнений Ax=b порядка n из задачи 3.5 методом Холецкого. Вычислить\n",
    "число обусловленности матрицы A.\n",
    "\n",
    "$ n = 25, m = 10 $\n",
    "\n",
    "$$ b_i = i^2 - n $$"
   ]
  },
  {
   "cell_type": "code",
   "execution_count": 111,
   "id": "616be1f2",
   "metadata": {
    "scrolled": true
   },
   "outputs": [
    {
     "data": {
      "text/plain": [
       "matrix([[1.25000000e+02, 2.85714286e-02, 5.71428571e-02, 8.57142857e-02,\n",
       "         1.14285714e-01, 1.42857143e-01, 1.71428571e-01, 2.00000000e-01,\n",
       "         2.28571429e-01, 2.57142857e-01, 2.85714286e-01, 3.14285714e-01,\n",
       "         3.42857143e-01, 3.71428571e-01, 4.00000000e-01, 4.28571429e-01,\n",
       "         4.57142857e-01, 4.85714286e-01, 5.14285714e-01, 5.42857143e-01,\n",
       "         5.71428571e-01, 6.00000000e-01, 6.28571429e-01, 6.57142857e-01,\n",
       "         6.85714286e-01],\n",
       "        [2.85714286e-02, 1.25140000e+02, 8.57142857e-02, 1.14285714e-01,\n",
       "         1.42857143e-01, 1.71428571e-01, 2.00000000e-01, 2.28571429e-01,\n",
       "         2.57142857e-01, 2.85714286e-01, 3.14285714e-01, 3.42857143e-01,\n",
       "         3.71428571e-01, 4.00000000e-01, 4.28571429e-01, 4.57142857e-01,\n",
       "         4.85714286e-01, 5.14285714e-01, 5.42857143e-01, 5.71428571e-01,\n",
       "         6.00000000e-01, 6.28571429e-01, 6.57142857e-01, 6.85714286e-01,\n",
       "         7.14285714e-01],\n",
       "        [5.71428571e-02, 8.57142857e-02, 1.25280000e+02, 1.42857143e-01,\n",
       "         1.71428571e-01, 2.00000000e-01, 2.28571429e-01, 2.57142857e-01,\n",
       "         2.85714286e-01, 3.14285714e-01, 3.42857143e-01, 3.71428571e-01,\n",
       "         4.00000000e-01, 4.28571429e-01, 4.57142857e-01, 4.85714286e-01,\n",
       "         5.14285714e-01, 5.42857143e-01, 5.71428571e-01, 6.00000000e-01,\n",
       "         6.28571429e-01, 6.57142857e-01, 6.85714286e-01, 7.14285714e-01,\n",
       "         7.42857143e-01],\n",
       "        [8.57142857e-02, 1.14285714e-01, 1.42857143e-01, 1.25420000e+02,\n",
       "         2.00000000e-01, 2.28571429e-01, 2.57142857e-01, 2.85714286e-01,\n",
       "         3.14285714e-01, 3.42857143e-01, 3.71428571e-01, 4.00000000e-01,\n",
       "         4.28571429e-01, 4.57142857e-01, 4.85714286e-01, 5.14285714e-01,\n",
       "         5.42857143e-01, 5.71428571e-01, 6.00000000e-01, 6.28571429e-01,\n",
       "         6.57142857e-01, 6.85714286e-01, 7.14285714e-01, 7.42857143e-01,\n",
       "         7.71428571e-01],\n",
       "        [1.14285714e-01, 1.42857143e-01, 1.71428571e-01, 2.00000000e-01,\n",
       "         1.25560000e+02, 2.57142857e-01, 2.85714286e-01, 3.14285714e-01,\n",
       "         3.42857143e-01, 3.71428571e-01, 4.00000000e-01, 4.28571429e-01,\n",
       "         4.57142857e-01, 4.85714286e-01, 5.14285714e-01, 5.42857143e-01,\n",
       "         5.71428571e-01, 6.00000000e-01, 6.28571429e-01, 6.57142857e-01,\n",
       "         6.85714286e-01, 7.14285714e-01, 7.42857143e-01, 7.71428571e-01,\n",
       "         8.00000000e-01],\n",
       "        [1.42857143e-01, 1.71428571e-01, 2.00000000e-01, 2.28571429e-01,\n",
       "         2.57142857e-01, 1.25700000e+02, 3.14285714e-01, 3.42857143e-01,\n",
       "         3.71428571e-01, 4.00000000e-01, 4.28571429e-01, 4.57142857e-01,\n",
       "         4.85714286e-01, 5.14285714e-01, 5.42857143e-01, 5.71428571e-01,\n",
       "         6.00000000e-01, 6.28571429e-01, 6.57142857e-01, 6.85714286e-01,\n",
       "         7.14285714e-01, 7.42857143e-01, 7.71428571e-01, 8.00000000e-01,\n",
       "         8.28571429e-01],\n",
       "        [1.71428571e-01, 2.00000000e-01, 2.28571429e-01, 2.57142857e-01,\n",
       "         2.85714286e-01, 3.14285714e-01, 1.25840000e+02, 3.71428571e-01,\n",
       "         4.00000000e-01, 4.28571429e-01, 4.57142857e-01, 4.85714286e-01,\n",
       "         5.14285714e-01, 5.42857143e-01, 5.71428571e-01, 6.00000000e-01,\n",
       "         6.28571429e-01, 6.57142857e-01, 6.85714286e-01, 7.14285714e-01,\n",
       "         7.42857143e-01, 7.71428571e-01, 8.00000000e-01, 8.28571429e-01,\n",
       "         8.57142857e-01],\n",
       "        [2.00000000e-01, 2.28571429e-01, 2.57142857e-01, 2.85714286e-01,\n",
       "         3.14285714e-01, 3.42857143e-01, 3.71428571e-01, 1.25980000e+02,\n",
       "         4.28571429e-01, 4.57142857e-01, 4.85714286e-01, 5.14285714e-01,\n",
       "         5.42857143e-01, 5.71428571e-01, 6.00000000e-01, 6.28571429e-01,\n",
       "         6.57142857e-01, 6.85714286e-01, 7.14285714e-01, 7.42857143e-01,\n",
       "         7.71428571e-01, 8.00000000e-01, 8.28571429e-01, 8.57142857e-01,\n",
       "         8.85714286e-01],\n",
       "        [2.28571429e-01, 2.57142857e-01, 2.85714286e-01, 3.14285714e-01,\n",
       "         3.42857143e-01, 3.71428571e-01, 4.00000000e-01, 4.28571429e-01,\n",
       "         1.26120000e+02, 4.85714286e-01, 5.14285714e-01, 5.42857143e-01,\n",
       "         5.71428571e-01, 6.00000000e-01, 6.28571429e-01, 6.57142857e-01,\n",
       "         6.85714286e-01, 7.14285714e-01, 7.42857143e-01, 7.71428571e-01,\n",
       "         8.00000000e-01, 8.28571429e-01, 8.57142857e-01, 8.85714286e-01,\n",
       "         9.14285714e-01],\n",
       "        [2.57142857e-01, 2.85714286e-01, 3.14285714e-01, 3.42857143e-01,\n",
       "         3.71428571e-01, 4.00000000e-01, 4.28571429e-01, 4.57142857e-01,\n",
       "         4.85714286e-01, 1.26260000e+02, 5.42857143e-01, 5.71428571e-01,\n",
       "         6.00000000e-01, 6.28571429e-01, 6.57142857e-01, 6.85714286e-01,\n",
       "         7.14285714e-01, 7.42857143e-01, 7.71428571e-01, 8.00000000e-01,\n",
       "         8.28571429e-01, 8.57142857e-01, 8.85714286e-01, 9.14285714e-01,\n",
       "         9.42857143e-01],\n",
       "        [2.85714286e-01, 3.14285714e-01, 3.42857143e-01, 3.71428571e-01,\n",
       "         4.00000000e-01, 4.28571429e-01, 4.57142857e-01, 4.85714286e-01,\n",
       "         5.14285714e-01, 5.42857143e-01, 1.26400000e+02, 6.00000000e-01,\n",
       "         6.28571429e-01, 6.57142857e-01, 6.85714286e-01, 7.14285714e-01,\n",
       "         7.42857143e-01, 7.71428571e-01, 8.00000000e-01, 8.28571429e-01,\n",
       "         8.57142857e-01, 8.85714286e-01, 9.14285714e-01, 9.42857143e-01,\n",
       "         9.71428571e-01],\n",
       "        [3.14285714e-01, 3.42857143e-01, 3.71428571e-01, 4.00000000e-01,\n",
       "         4.28571429e-01, 4.57142857e-01, 4.85714286e-01, 5.14285714e-01,\n",
       "         5.42857143e-01, 5.71428571e-01, 6.00000000e-01, 1.26540000e+02,\n",
       "         6.57142857e-01, 6.85714286e-01, 7.14285714e-01, 7.42857143e-01,\n",
       "         7.71428571e-01, 8.00000000e-01, 8.28571429e-01, 8.57142857e-01,\n",
       "         8.85714286e-01, 9.14285714e-01, 9.42857143e-01, 9.71428571e-01,\n",
       "         1.00000000e+00],\n",
       "        [3.42857143e-01, 3.71428571e-01, 4.00000000e-01, 4.28571429e-01,\n",
       "         4.57142857e-01, 4.85714286e-01, 5.14285714e-01, 5.42857143e-01,\n",
       "         5.71428571e-01, 6.00000000e-01, 6.28571429e-01, 6.57142857e-01,\n",
       "         1.26680000e+02, 7.14285714e-01, 7.42857143e-01, 7.71428571e-01,\n",
       "         8.00000000e-01, 8.28571429e-01, 8.57142857e-01, 8.85714286e-01,\n",
       "         9.14285714e-01, 9.42857143e-01, 9.71428571e-01, 1.00000000e+00,\n",
       "         1.02857143e+00],\n",
       "        [3.71428571e-01, 4.00000000e-01, 4.28571429e-01, 4.57142857e-01,\n",
       "         4.85714286e-01, 5.14285714e-01, 5.42857143e-01, 5.71428571e-01,\n",
       "         6.00000000e-01, 6.28571429e-01, 6.57142857e-01, 6.85714286e-01,\n",
       "         7.14285714e-01, 1.26820000e+02, 7.71428571e-01, 8.00000000e-01,\n",
       "         8.28571429e-01, 8.57142857e-01, 8.85714286e-01, 9.14285714e-01,\n",
       "         9.42857143e-01, 9.71428571e-01, 1.00000000e+00, 1.02857143e+00,\n",
       "         1.05714286e+00],\n",
       "        [4.00000000e-01, 4.28571429e-01, 4.57142857e-01, 4.85714286e-01,\n",
       "         5.14285714e-01, 5.42857143e-01, 5.71428571e-01, 6.00000000e-01,\n",
       "         6.28571429e-01, 6.57142857e-01, 6.85714286e-01, 7.14285714e-01,\n",
       "         7.42857143e-01, 7.71428571e-01, 1.26960000e+02, 8.28571429e-01,\n",
       "         8.57142857e-01, 8.85714286e-01, 9.14285714e-01, 9.42857143e-01,\n",
       "         9.71428571e-01, 1.00000000e+00, 1.02857143e+00, 1.05714286e+00,\n",
       "         1.08571429e+00],\n",
       "        [4.28571429e-01, 4.57142857e-01, 4.85714286e-01, 5.14285714e-01,\n",
       "         5.42857143e-01, 5.71428571e-01, 6.00000000e-01, 6.28571429e-01,\n",
       "         6.57142857e-01, 6.85714286e-01, 7.14285714e-01, 7.42857143e-01,\n",
       "         7.71428571e-01, 8.00000000e-01, 8.28571429e-01, 1.27100000e+02,\n",
       "         8.85714286e-01, 9.14285714e-01, 9.42857143e-01, 9.71428571e-01,\n",
       "         1.00000000e+00, 1.02857143e+00, 1.05714286e+00, 1.08571429e+00,\n",
       "         1.11428571e+00],\n",
       "        [4.57142857e-01, 4.85714286e-01, 5.14285714e-01, 5.42857143e-01,\n",
       "         5.71428571e-01, 6.00000000e-01, 6.28571429e-01, 6.57142857e-01,\n",
       "         6.85714286e-01, 7.14285714e-01, 7.42857143e-01, 7.71428571e-01,\n",
       "         8.00000000e-01, 8.28571429e-01, 8.57142857e-01, 8.85714286e-01,\n",
       "         1.27240000e+02, 9.42857143e-01, 9.71428571e-01, 1.00000000e+00,\n",
       "         1.02857143e+00, 1.05714286e+00, 1.08571429e+00, 1.11428571e+00,\n",
       "         1.14285714e+00],\n",
       "        [4.85714286e-01, 5.14285714e-01, 5.42857143e-01, 5.71428571e-01,\n",
       "         6.00000000e-01, 6.28571429e-01, 6.57142857e-01, 6.85714286e-01,\n",
       "         7.14285714e-01, 7.42857143e-01, 7.71428571e-01, 8.00000000e-01,\n",
       "         8.28571429e-01, 8.57142857e-01, 8.85714286e-01, 9.14285714e-01,\n",
       "         9.42857143e-01, 1.27380000e+02, 1.00000000e+00, 1.02857143e+00,\n",
       "         1.05714286e+00, 1.08571429e+00, 1.11428571e+00, 1.14285714e+00,\n",
       "         1.17142857e+00],\n",
       "        [5.14285714e-01, 5.42857143e-01, 5.71428571e-01, 6.00000000e-01,\n",
       "         6.28571429e-01, 6.57142857e-01, 6.85714286e-01, 7.14285714e-01,\n",
       "         7.42857143e-01, 7.71428571e-01, 8.00000000e-01, 8.28571429e-01,\n",
       "         8.57142857e-01, 8.85714286e-01, 9.14285714e-01, 9.42857143e-01,\n",
       "         9.71428571e-01, 1.00000000e+00, 1.27520000e+02, 1.05714286e+00,\n",
       "         1.08571429e+00, 1.11428571e+00, 1.14285714e+00, 1.17142857e+00,\n",
       "         1.20000000e+00],\n",
       "        [5.42857143e-01, 5.71428571e-01, 6.00000000e-01, 6.28571429e-01,\n",
       "         6.57142857e-01, 6.85714286e-01, 7.14285714e-01, 7.42857143e-01,\n",
       "         7.71428571e-01, 8.00000000e-01, 8.28571429e-01, 8.57142857e-01,\n",
       "         8.85714286e-01, 9.14285714e-01, 9.42857143e-01, 9.71428571e-01,\n",
       "         1.00000000e+00, 1.02857143e+00, 1.05714286e+00, 1.27660000e+02,\n",
       "         1.11428571e+00, 1.14285714e+00, 1.17142857e+00, 1.20000000e+00,\n",
       "         1.22857143e+00],\n",
       "        [5.71428571e-01, 6.00000000e-01, 6.28571429e-01, 6.57142857e-01,\n",
       "         6.85714286e-01, 7.14285714e-01, 7.42857143e-01, 7.71428571e-01,\n",
       "         8.00000000e-01, 8.28571429e-01, 8.57142857e-01, 8.85714286e-01,\n",
       "         9.14285714e-01, 9.42857143e-01, 9.71428571e-01, 1.00000000e+00,\n",
       "         1.02857143e+00, 1.05714286e+00, 1.08571429e+00, 1.11428571e+00,\n",
       "         1.27800000e+02, 1.17142857e+00, 1.20000000e+00, 1.22857143e+00,\n",
       "         1.25714286e+00],\n",
       "        [6.00000000e-01, 6.28571429e-01, 6.57142857e-01, 6.85714286e-01,\n",
       "         7.14285714e-01, 7.42857143e-01, 7.71428571e-01, 8.00000000e-01,\n",
       "         8.28571429e-01, 8.57142857e-01, 8.85714286e-01, 9.14285714e-01,\n",
       "         9.42857143e-01, 9.71428571e-01, 1.00000000e+00, 1.02857143e+00,\n",
       "         1.05714286e+00, 1.08571429e+00, 1.11428571e+00, 1.14285714e+00,\n",
       "         1.17142857e+00, 1.27940000e+02, 1.22857143e+00, 1.25714286e+00,\n",
       "         1.28571429e+00],\n",
       "        [6.28571429e-01, 6.57142857e-01, 6.85714286e-01, 7.14285714e-01,\n",
       "         7.42857143e-01, 7.71428571e-01, 8.00000000e-01, 8.28571429e-01,\n",
       "         8.57142857e-01, 8.85714286e-01, 9.14285714e-01, 9.42857143e-01,\n",
       "         9.71428571e-01, 1.00000000e+00, 1.02857143e+00, 1.05714286e+00,\n",
       "         1.08571429e+00, 1.11428571e+00, 1.14285714e+00, 1.17142857e+00,\n",
       "         1.20000000e+00, 1.22857143e+00, 1.28080000e+02, 1.28571429e+00,\n",
       "         1.31428571e+00],\n",
       "        [6.57142857e-01, 6.85714286e-01, 7.14285714e-01, 7.42857143e-01,\n",
       "         7.71428571e-01, 8.00000000e-01, 8.28571429e-01, 8.57142857e-01,\n",
       "         8.85714286e-01, 9.14285714e-01, 9.42857143e-01, 9.71428571e-01,\n",
       "         1.00000000e+00, 1.02857143e+00, 1.05714286e+00, 1.08571429e+00,\n",
       "         1.11428571e+00, 1.14285714e+00, 1.17142857e+00, 1.20000000e+00,\n",
       "         1.22857143e+00, 1.25714286e+00, 1.28571429e+00, 1.28220000e+02,\n",
       "         1.34285714e+00],\n",
       "        [6.85714286e-01, 7.14285714e-01, 7.42857143e-01, 7.71428571e-01,\n",
       "         8.00000000e-01, 8.28571429e-01, 8.57142857e-01, 8.85714286e-01,\n",
       "         9.14285714e-01, 9.42857143e-01, 9.71428571e-01, 1.00000000e+00,\n",
       "         1.02857143e+00, 1.05714286e+00, 1.08571429e+00, 1.11428571e+00,\n",
       "         1.14285714e+00, 1.17142857e+00, 1.20000000e+00, 1.22857143e+00,\n",
       "         1.25714286e+00, 1.28571429e+00, 1.31428571e+00, 1.34285714e+00,\n",
       "         1.28360000e+02]])"
      ]
     },
     "execution_count": 111,
     "metadata": {},
     "output_type": "execute_result"
    }
   ],
   "source": [
    "n = 25  # размерность\n",
    "m = 10\n",
    "A = np.matrix([[0. for y in range(n)] for x in range(n)])\n",
    "for i in range(n):\n",
    "    for j in range(n):\n",
    "        if i == j:\n",
    "            A[i,j] = n + m**2 + j/m + i/n\n",
    "            continue\n",
    "        A[i,j] = (i+j) / (m+n)\n",
    "A"
   ]
  },
  {
   "cell_type": "code",
   "execution_count": 113,
   "id": "6dc54fc9",
   "metadata": {},
   "outputs": [
    {
     "data": {
      "text/plain": [
       "array([-25, -24, -21, -16,  -9,   0,  11,  24,  39,  56,  75,  96, 119,\n",
       "       144, 171, 200, 231, 264, 299, 336, 375, 416, 459, 504, 551])"
      ]
     },
     "execution_count": 113,
     "metadata": {},
     "output_type": "execute_result"
    }
   ],
   "source": [
    "b = np.array([i**2-n for i in range(n)])\n",
    "b"
   ]
  },
  {
   "cell_type": "code",
   "execution_count": 118,
   "id": "58152e4b",
   "metadata": {},
   "outputs": [
    {
     "data": {
      "text/plain": [
       "matrix([[1.11803399e+01, 0.00000000e+00, 0.00000000e+00, 0.00000000e+00,\n",
       "         0.00000000e+00, 0.00000000e+00, 0.00000000e+00, 0.00000000e+00,\n",
       "         0.00000000e+00, 0.00000000e+00, 0.00000000e+00, 0.00000000e+00,\n",
       "         0.00000000e+00, 0.00000000e+00, 0.00000000e+00, 0.00000000e+00,\n",
       "         0.00000000e+00, 0.00000000e+00, 0.00000000e+00, 0.00000000e+00,\n",
       "         0.00000000e+00, 0.00000000e+00, 0.00000000e+00, 0.00000000e+00,\n",
       "         0.00000000e+00],\n",
       "        [2.55550626e-03, 1.11865988e+01, 0.00000000e+00, 0.00000000e+00,\n",
       "         0.00000000e+00, 0.00000000e+00, 0.00000000e+00, 0.00000000e+00,\n",
       "         0.00000000e+00, 0.00000000e+00, 0.00000000e+00, 0.00000000e+00,\n",
       "         0.00000000e+00, 0.00000000e+00, 0.00000000e+00, 0.00000000e+00,\n",
       "         0.00000000e+00, 0.00000000e+00, 0.00000000e+00, 0.00000000e+00,\n",
       "         0.00000000e+00, 0.00000000e+00, 0.00000000e+00, 0.00000000e+00,\n",
       "         0.00000000e+00],\n",
       "        [5.11101252e-03, 7.66106175e-03, 1.11928511e+01, 0.00000000e+00,\n",
       "         0.00000000e+00, 0.00000000e+00, 0.00000000e+00, 0.00000000e+00,\n",
       "         0.00000000e+00, 0.00000000e+00, 0.00000000e+00, 0.00000000e+00,\n",
       "         0.00000000e+00, 0.00000000e+00, 0.00000000e+00, 0.00000000e+00,\n",
       "         0.00000000e+00, 0.00000000e+00, 0.00000000e+00, 0.00000000e+00,\n",
       "         0.00000000e+00, 0.00000000e+00, 0.00000000e+00, 0.00000000e+00,\n",
       "         0.00000000e+00],\n",
       "        [7.66651878e-03, 1.02145544e-02, 1.27527565e-02, 1.11990926e+01,\n",
       "         0.00000000e+00, 0.00000000e+00, 0.00000000e+00, 0.00000000e+00,\n",
       "         0.00000000e+00, 0.00000000e+00, 0.00000000e+00, 0.00000000e+00,\n",
       "         0.00000000e+00, 0.00000000e+00, 0.00000000e+00, 0.00000000e+00,\n",
       "         0.00000000e+00, 0.00000000e+00, 0.00000000e+00, 0.00000000e+00,\n",
       "         0.00000000e+00, 0.00000000e+00, 0.00000000e+00, 0.00000000e+00,\n",
       "         0.00000000e+00],\n",
       "        [1.02220250e-02, 1.27680471e-02, 1.53024916e-02, 1.78225211e-02,\n",
       "         1.12053193e+01, 0.00000000e+00, 0.00000000e+00, 0.00000000e+00,\n",
       "         0.00000000e+00, 0.00000000e+00, 0.00000000e+00, 0.00000000e+00,\n",
       "         0.00000000e+00, 0.00000000e+00, 0.00000000e+00, 0.00000000e+00,\n",
       "         0.00000000e+00, 0.00000000e+00, 0.00000000e+00, 0.00000000e+00,\n",
       "         0.00000000e+00, 0.00000000e+00, 0.00000000e+00, 0.00000000e+00,\n",
       "         0.00000000e+00],\n",
       "        [1.27775313e-02, 1.53215397e-02, 1.78522267e-02, 2.03667664e-02,\n",
       "         2.28623961e-02, 1.12115274e+01, 0.00000000e+00, 0.00000000e+00,\n",
       "         0.00000000e+00, 0.00000000e+00, 0.00000000e+00, 0.00000000e+00,\n",
       "         0.00000000e+00, 0.00000000e+00, 0.00000000e+00, 0.00000000e+00,\n",
       "         0.00000000e+00, 0.00000000e+00, 0.00000000e+00, 0.00000000e+00,\n",
       "         0.00000000e+00, 0.00000000e+00, 0.00000000e+00, 0.00000000e+00,\n",
       "         0.00000000e+00],\n",
       "        [1.53330376e-02, 1.78750324e-02, 2.04019617e-02, 2.29110116e-02,\n",
       "         2.53994359e-02, 2.78645698e-02, 1.12177129e+01, 0.00000000e+00,\n",
       "         0.00000000e+00, 0.00000000e+00, 0.00000000e+00, 0.00000000e+00,\n",
       "         0.00000000e+00, 0.00000000e+00, 0.00000000e+00, 0.00000000e+00,\n",
       "         0.00000000e+00, 0.00000000e+00, 0.00000000e+00, 0.00000000e+00,\n",
       "         0.00000000e+00, 0.00000000e+00, 0.00000000e+00, 0.00000000e+00,\n",
       "         0.00000000e+00],\n",
       "        [1.78885438e-02, 2.04285250e-02, 2.29516968e-02, 2.54552568e-02,\n",
       "         2.79364756e-02, 3.03927100e-02, 3.28214149e-02, 1.12238722e+01,\n",
       "         0.00000000e+00, 0.00000000e+00, 0.00000000e+00, 0.00000000e+00,\n",
       "         0.00000000e+00, 0.00000000e+00, 0.00000000e+00, 0.00000000e+00,\n",
       "         0.00000000e+00, 0.00000000e+00, 0.00000000e+00, 0.00000000e+00,\n",
       "         0.00000000e+00, 0.00000000e+00, 0.00000000e+00, 0.00000000e+00,\n",
       "         0.00000000e+00],\n",
       "        [2.04440501e-02, 2.29820177e-02, 2.55014319e-02, 2.79995020e-02,\n",
       "         3.04735154e-02, 3.29208502e-02, 3.53389874e-02, 3.77255221e-02,\n",
       "         1.12300016e+01, 0.00000000e+00, 0.00000000e+00, 0.00000000e+00,\n",
       "         0.00000000e+00, 0.00000000e+00, 0.00000000e+00, 0.00000000e+00,\n",
       "         0.00000000e+00, 0.00000000e+00, 0.00000000e+00, 0.00000000e+00,\n",
       "         0.00000000e+00, 0.00000000e+00, 0.00000000e+00, 0.00000000e+00,\n",
       "         0.00000000e+00],\n",
       "        [2.29995563e-02, 2.55355103e-02, 2.80511669e-02, 3.05437473e-02,\n",
       "         3.30105552e-02, 3.54489904e-02, 3.78565599e-02, 4.02308894e-02,\n",
       "         4.25697329e-02, 1.12360976e+01, 0.00000000e+00, 0.00000000e+00,\n",
       "         0.00000000e+00, 0.00000000e+00, 0.00000000e+00, 0.00000000e+00,\n",
       "         0.00000000e+00, 0.00000000e+00, 0.00000000e+00, 0.00000000e+00,\n",
       "         0.00000000e+00, 0.00000000e+00, 0.00000000e+00, 0.00000000e+00,\n",
       "         0.00000000e+00],\n",
       "        [2.55550626e-02, 2.80890030e-02, 3.06009020e-02, 3.30879925e-02,\n",
       "         3.55475950e-02, 3.79771306e-02, 4.03741324e-02, 4.27362566e-02,\n",
       "         4.50612921e-02, 4.73471690e-02, 1.12421569e+01, 0.00000000e+00,\n",
       "         0.00000000e+00, 0.00000000e+00, 0.00000000e+00, 0.00000000e+00,\n",
       "         0.00000000e+00, 0.00000000e+00, 0.00000000e+00, 0.00000000e+00,\n",
       "         0.00000000e+00, 0.00000000e+00, 0.00000000e+00, 0.00000000e+00,\n",
       "         0.00000000e+00],\n",
       "        [2.81105689e-02, 3.06424957e-02, 3.31506371e-02, 3.56322377e-02,\n",
       "         3.80846348e-02, 4.05052707e-02, 4.28917049e-02, 4.52416239e-02,\n",
       "         4.75528514e-02, 4.98233561e-02, 5.20512593e-02, 1.12481764e+01,\n",
       "         0.00000000e+00, 0.00000000e+00, 0.00000000e+00, 0.00000000e+00,\n",
       "         0.00000000e+00, 0.00000000e+00, 0.00000000e+00, 0.00000000e+00,\n",
       "         0.00000000e+00, 0.00000000e+00, 0.00000000e+00, 0.00000000e+00,\n",
       "         0.00000000e+00],\n",
       "        [3.06660751e-02, 3.31959883e-02, 3.57003721e-02, 3.81764829e-02,\n",
       "         4.06216746e-02, 4.30334109e-02, 4.54092774e-02, 4.77469911e-02,\n",
       "         5.00444106e-02, 5.22995433e-02, 5.45105529e-02, 5.66757644e-02,\n",
       "         1.12541530e+01, 0.00000000e+00, 0.00000000e+00, 0.00000000e+00,\n",
       "         0.00000000e+00, 0.00000000e+00, 0.00000000e+00, 0.00000000e+00,\n",
       "         0.00000000e+00, 0.00000000e+00, 0.00000000e+00, 0.00000000e+00,\n",
       "         0.00000000e+00],\n",
       "        [3.32215814e-02, 3.57494810e-02, 3.82501072e-02, 4.07207282e-02,\n",
       "         4.31587143e-02, 4.55615511e-02, 4.79268498e-02, 5.02523584e-02,\n",
       "         5.25359698e-02, 5.47757305e-02, 5.69698464e-02, 5.91166887e-02,\n",
       "         6.12147974e-02, 1.12600838e+01, 0.00000000e+00, 0.00000000e+00,\n",
       "         0.00000000e+00, 0.00000000e+00, 0.00000000e+00, 0.00000000e+00,\n",
       "         0.00000000e+00, 0.00000000e+00, 0.00000000e+00, 0.00000000e+00,\n",
       "         0.00000000e+00],\n",
       "        [3.57770876e-02, 3.83029736e-02, 4.07998423e-02, 4.32649734e-02,\n",
       "         4.56957541e-02, 4.80896913e-02, 5.04444223e-02, 5.27577256e-02,\n",
       "         5.50275290e-02, 5.72519176e-02, 5.94291400e-02, 6.15576130e-02,\n",
       "         6.36359258e-02, 6.56628418e-02, 1.12659664e+01, 0.00000000e+00,\n",
       "         0.00000000e+00, 0.00000000e+00, 0.00000000e+00, 0.00000000e+00,\n",
       "         0.00000000e+00, 0.00000000e+00, 0.00000000e+00, 0.00000000e+00,\n",
       "         0.00000000e+00],\n",
       "        [3.83325939e-02, 4.08564663e-02, 4.33495773e-02, 4.58092186e-02,\n",
       "         4.82327939e-02, 5.06178314e-02, 5.29619948e-02, 5.52630929e-02,\n",
       "         5.75190882e-02, 5.97281048e-02, 6.18884335e-02, 6.39985373e-02,\n",
       "         6.60570543e-02, 6.80627996e-02, 7.00147665e-02, 1.12717983e+01,\n",
       "         0.00000000e+00, 0.00000000e+00, 0.00000000e+00, 0.00000000e+00,\n",
       "         0.00000000e+00, 0.00000000e+00, 0.00000000e+00, 0.00000000e+00,\n",
       "         0.00000000e+00],\n",
       "        [4.08881002e-02, 4.34099589e-02, 4.58993124e-02, 4.83534638e-02,\n",
       "         5.07698337e-02, 5.31459716e-02, 5.54795673e-02, 5.77684601e-02,\n",
       "         6.00106475e-02, 6.22042919e-02, 6.43477270e-02, 6.64394616e-02,\n",
       "         6.84781827e-02, 7.04627575e-02, 7.23922335e-02, 7.42658375e-02,\n",
       "         1.12775771e+01, 0.00000000e+00, 0.00000000e+00, 0.00000000e+00,\n",
       "         0.00000000e+00, 0.00000000e+00, 0.00000000e+00, 0.00000000e+00,\n",
       "         0.00000000e+00],\n",
       "        [4.34436064e-02, 4.59634516e-02, 4.84490475e-02, 5.08977091e-02,\n",
       "         5.33068735e-02, 5.56741118e-02, 5.79971398e-02, 6.02738274e-02,\n",
       "         6.25022067e-02, 6.46804791e-02, 6.68070206e-02, 6.88803859e-02,\n",
       "         7.08993111e-02, 7.28627154e-02, 7.47697005e-02, 7.66195498e-02,\n",
       "         7.84117259e-02, 1.12833010e+01, 0.00000000e+00, 0.00000000e+00,\n",
       "         0.00000000e+00, 0.00000000e+00, 0.00000000e+00, 0.00000000e+00,\n",
       "         0.00000000e+00],\n",
       "        [4.59991127e-02, 4.85169442e-02, 5.09987825e-02, 5.34419543e-02,\n",
       "         5.58439132e-02, 5.82022520e-02, 6.05147123e-02, 6.27791946e-02,\n",
       "         6.49937659e-02, 6.71566663e-02, 6.92663141e-02, 7.13213101e-02,\n",
       "         7.33204396e-02, 7.52626733e-02, 7.71471674e-02, 7.89732620e-02,\n",
       "         8.07404780e-02, 8.24485133e-02, 1.12889680e+01, 0.00000000e+00,\n",
       "         0.00000000e+00, 0.00000000e+00, 0.00000000e+00, 0.00000000e+00,\n",
       "         0.00000000e+00],\n",
       "        [4.85546189e-02, 5.10704369e-02, 5.35485176e-02, 5.59861995e-02,\n",
       "         5.83809530e-02, 6.07303921e-02, 6.30322848e-02, 6.52845619e-02,\n",
       "         6.74853251e-02, 6.96328534e-02, 7.17256077e-02, 7.37622344e-02,\n",
       "         7.57415680e-02, 7.76626311e-02, 7.95246344e-02, 8.13269742e-02,\n",
       "         8.30692300e-02, 8.47511597e-02, 8.63726944e-02, 1.12945767e+01,\n",
       "         0.00000000e+00, 0.00000000e+00, 0.00000000e+00, 0.00000000e+00,\n",
       "         0.00000000e+00],\n",
       "        [5.11101252e-02, 5.36239295e-02, 5.60982527e-02, 5.85304447e-02,\n",
       "         6.09179928e-02, 6.32585323e-02, 6.55498573e-02, 6.77899291e-02,\n",
       "         6.99768844e-02, 7.21090406e-02, 7.41849012e-02, 7.62031587e-02,\n",
       "         7.81626964e-02, 8.00625890e-02, 8.19021013e-02, 8.36806865e-02,\n",
       "         8.53979821e-02, 8.70538060e-02, 8.86481504e-02, 9.01811756e-02,\n",
       "         1.13001255e+01, 0.00000000e+00, 0.00000000e+00, 0.00000000e+00,\n",
       "         0.00000000e+00],\n",
       "        [5.36656315e-02, 5.61774222e-02, 5.86479877e-02, 6.10746900e-02,\n",
       "         6.34550326e-02, 6.57866725e-02, 6.80674298e-02, 7.02952964e-02,\n",
       "         7.24684436e-02, 7.45852277e-02, 7.66441948e-02, 7.86440830e-02,\n",
       "         8.05838249e-02, 8.24625469e-02, 8.42795683e-02, 8.60343987e-02,\n",
       "         8.77267342e-02, 8.93564524e-02, 9.09236065e-02, 9.24284188e-02,\n",
       "         9.38712726e-02, 1.13056132e+01, 0.00000000e+00, 0.00000000e+00,\n",
       "         0.00000000e+00],\n",
       "        [5.62211377e-02, 5.87309149e-02, 6.11977228e-02, 6.36189352e-02,\n",
       "         6.59920724e-02, 6.83148127e-02, 7.05850022e-02, 7.28006636e-02,\n",
       "         7.49600028e-02, 7.70614149e-02, 7.91034883e-02, 8.10850073e-02,\n",
       "         8.30049533e-02, 8.48625047e-02, 8.66570353e-02, 8.83881110e-02,\n",
       "         9.00554863e-02, 9.16590987e-02, 9.31990626e-02, 9.46756620e-02,\n",
       "         9.60893427e-02, 9.74407038e-02, 1.13110389e+01, 0.00000000e+00,\n",
       "         0.00000000e+00],\n",
       "        [5.87766440e-02, 6.12844075e-02, 6.37474579e-02, 6.61631804e-02,\n",
       "         6.85291122e-02, 7.08429529e-02, 7.31025747e-02, 7.53060309e-02,\n",
       "         7.74515620e-02, 7.95376021e-02, 8.15627818e-02, 8.35259316e-02,\n",
       "         8.54260817e-02, 8.72624626e-02, 8.90345022e-02, 9.07418232e-02,\n",
       "         9.23842383e-02, 9.39617450e-02, 9.54745187e-02, 9.69229052e-02,\n",
       "         9.83074128e-02, 9.96287033e-02, 1.00887582e-01, 1.13164018e+01,\n",
       "         0.00000000e+00],\n",
       "        [6.13321502e-02, 6.38379002e-02, 6.62971929e-02, 6.87074256e-02,\n",
       "         7.10661519e-02, 7.33710930e-02, 7.56201472e-02, 7.78113981e-02,\n",
       "         7.99431213e-02, 8.20137892e-02, 8.40220754e-02, 8.59668558e-02,\n",
       "         8.78472102e-02, 8.96624205e-02, 9.14119692e-02, 9.30955354e-02,\n",
       "         9.47129904e-02, 9.62643914e-02, 9.77499747e-02, 9.91701484e-02,\n",
       "         1.00525483e-01, 1.01816703e-01, 1.03044676e-01, 1.04210405e-01,\n",
       "         1.13217011e+01]])"
      ]
     },
     "execution_count": 118,
     "metadata": {},
     "output_type": "execute_result"
    }
   ],
   "source": [
    "L = np.linalg.cholesky(A)\n",
    "L"
   ]
  },
  {
   "cell_type": "code",
   "execution_count": 120,
   "id": "ac80586b",
   "metadata": {},
   "outputs": [
    {
     "data": {
      "text/plain": [
       "array([-2.23606798e+00, -2.14491340e+00, -1.87370840e+00, -1.42306645e+00,\n",
       "       -7.93883800e-01,  1.26671429e-02,  9.95146575e-01,  2.15185789e+00,\n",
       "        3.48086008e+00,  4.97998165e+00,  6.64683605e+00,  8.47883829e+00,\n",
       "        1.04732225e+01,  1.26270605e+01,  1.49372807e+01,  1.74006875e+01,\n",
       "        2.00139811e+01,  2.27737772e+01,  2.56766258e+01,  2.87190311e+01,\n",
       "        3.18974695e+01,  3.52084074e+01,  3.86483189e+01,  4.22137011e+01,\n",
       "        4.59010903e+01])"
      ]
     },
     "execution_count": 120,
     "metadata": {},
     "output_type": "execute_result"
    }
   ],
   "source": [
    "y = np.linalg.solve(L, b)\n",
    "y"
   ]
  },
  {
   "cell_type": "code",
   "execution_count": 121,
   "id": "481d8d75",
   "metadata": {},
   "outputs": [
    {
     "data": {
      "text/plain": [
       "array([-0.3326762 , -0.33098052, -0.31330826, -0.27969114, -0.23016078,\n",
       "       -0.16474871, -0.08348641,  0.01359477,  0.12646352,  0.25508864,\n",
       "        0.39943901,  0.55948358,  0.73519138,  0.92653154,  1.13347326,\n",
       "        1.35598581,  1.59403856,  1.84760094,  2.11664249,  2.4011328 ,\n",
       "        2.70104155,  3.0163385 ,  3.3469935 ,  3.69297646,  4.05425737])"
      ]
     },
     "execution_count": 121,
     "metadata": {},
     "output_type": "execute_result"
    }
   ],
   "source": [
    "x = np.linalg.solve(np.transpose(L), y)\n",
    "x"
   ]
  },
  {
   "cell_type": "markdown",
   "id": "812b2be1",
   "metadata": {},
   "source": [
    "**Решили систему линейных уравнений методом Холецкого.**"
   ]
  },
  {
   "cell_type": "code",
   "execution_count": 122,
   "id": "03628400",
   "metadata": {},
   "outputs": [
    {
     "data": {
      "text/plain": [
       "1.1675445172681724"
      ]
     },
     "execution_count": 122,
     "metadata": {},
     "output_type": "execute_result"
    }
   ],
   "source": [
    "# число обусловленности матрицы\n",
    "np.linalg.cond(A)"
   ]
  },
  {
   "cell_type": "code",
   "execution_count": null,
   "id": "b27cc69a",
   "metadata": {},
   "outputs": [],
   "source": []
  },
  {
   "cell_type": "code",
   "execution_count": null,
   "id": "5826ea30",
   "metadata": {},
   "outputs": [],
   "source": []
  },
  {
   "cell_type": "code",
   "execution_count": null,
   "id": "66d2f036",
   "metadata": {},
   "outputs": [],
   "source": []
  }
 ],
 "metadata": {
  "kernelspec": {
   "display_name": "Python 3 (ipykernel)",
   "language": "python",
   "name": "python3"
  },
  "language_info": {
   "codemirror_mode": {
    "name": "ipython",
    "version": 3
   },
   "file_extension": ".py",
   "mimetype": "text/x-python",
   "name": "python",
   "nbconvert_exporter": "python",
   "pygments_lexer": "ipython3",
   "version": "3.10.8"
  }
 },
 "nbformat": 4,
 "nbformat_minor": 5
}
