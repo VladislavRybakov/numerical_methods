{
 "cells": [
  {
   "cell_type": "markdown",
   "id": "fafa7093",
   "metadata": {},
   "source": [
    "# Лабораторная работа №4\n",
    "\n",
    "### Выполнил Рыбаков Владислав, БПМ201, 30 вариант\n",
    "\n",
    "Задания 5.1.30, 5.2, 5.6.8"
   ]
  },
  {
   "cell_type": "markdown",
   "id": "bbd8e739",
   "metadata": {},
   "source": [
    "### Задание 5.1.30\n",
    "\n",
    "Дана система уравнений $Ax=b$. Найти решение системы с помощью метода Гаусса. Выполнить\n",
    "10 итераций по методу Зейделя. Принимая решение, полученное с помощью метода Гаусса за точное, найти\n",
    "величину абсолютной погрешности итерационного решения."
   ]
  },
  {
   "cell_type": "code",
   "execution_count": 58,
   "id": "6f086ee8",
   "metadata": {},
   "outputs": [],
   "source": [
    "import numpy as np\n",
    "from scipy import optimize"
   ]
  },
  {
   "cell_type": "code",
   "execution_count": 59,
   "id": "70200150",
   "metadata": {},
   "outputs": [
    {
     "data": {
      "text/plain": [
       "array([[ 0.33,  0.1 ,  0.1 ,  0.  ,  0.02,  0.1 ],\n",
       "       [ 0.99,  4.9 ,  0.4 ,  2.97,  0.21, -0.3 ],\n",
       "       [ 1.32, -1.6 ,  6.6 ,  3.3 ,  0.24,  0.1 ],\n",
       "       [ 1.98,  1.2 ,  1.1 ,  6.93,  0.81, -1.2 ],\n",
       "       [ 1.98, -1.5 ,  0.4 , -1.98,  6.1 ,  0.  ],\n",
       "       [ 0.99,  0.4 ,  0.3 ,  1.65,  0.9 ,  4.3 ]])"
      ]
     },
     "execution_count": 59,
     "metadata": {},
     "output_type": "execute_result"
    }
   ],
   "source": [
    "A = np.array([[0.33, 0.1, 0.1, 0, 0.02, 0.1],\n",
    "                [0.99, 4.9, 0.4, 2.97, 0.21, -0.3],\n",
    "                [1.32, -1.6, 6.6, 3.3, 0.24, 0.1],\n",
    "                [1.98, 1.2, 1.1, 6.93, 0.81, -1.2],\n",
    "                [1.98, -1.5, 0.4, -1.98, 6.1, 0],\n",
    "                [0.99, 0.4, 0.3, 1.65, 0.9, 4.3]])\n",
    "b = np.array([0.94, 18.68, 12.50, 5.56, -10.28, 12.29])\n",
    "A"
   ]
  },
  {
   "cell_type": "code",
   "execution_count": 60,
   "id": "37a1800b",
   "metadata": {},
   "outputs": [
    {
     "name": "stdout",
     "output_type": "stream",
     "text": [
      "[ 0.3030303   3.6         2.6         0.21212121 -1.          2.4       ]\n"
     ]
    }
   ],
   "source": [
    "# решим систему\n",
    "true_solve = np.linalg.solve(A, b)\n",
    "print(true_solve)"
   ]
  },
  {
   "cell_type": "code",
   "execution_count": 62,
   "id": "ebda765b",
   "metadata": {},
   "outputs": [
    {
     "data": {
      "text/plain": [
       "array([[ 0.        , -0.3030303 , -0.3030303 , -0.        , -0.06060606,\n",
       "        -0.3030303 ],\n",
       "       [-0.20204082,  0.        , -0.08163265, -0.60612245, -0.04285714,\n",
       "         0.06122449],\n",
       "       [-0.2       ,  0.24242424,  0.        , -0.5       , -0.03636364,\n",
       "        -0.01515152],\n",
       "       [-0.28571429, -0.17316017, -0.15873016,  0.        , -0.11688312,\n",
       "         0.17316017],\n",
       "       [-0.32459016,  0.24590164, -0.06557377,  0.32459016,  0.        ,\n",
       "        -0.        ],\n",
       "       [-0.23023256, -0.09302326, -0.06976744, -0.38372093, -0.20930233,\n",
       "         0.        ]])"
      ]
     },
     "execution_count": 62,
     "metadata": {},
     "output_type": "execute_result"
    }
   ],
   "source": [
    "B = np.zeros((6,6))\n",
    "for i in range(6):\n",
    "    for j in range(6):\n",
    "        if i != j:\n",
    "            B[i,j] = - A[i,j]/A[i,i]\n",
    "            \n",
    "B"
   ]
  },
  {
   "cell_type": "code",
   "execution_count": 63,
   "id": "7e0f3a1e",
   "metadata": {},
   "outputs": [
    {
     "data": {
      "text/plain": [
       "0.993939393939394"
      ]
     },
     "execution_count": 63,
     "metadata": {},
     "output_type": "execute_result"
    }
   ],
   "source": [
    "# проверим достаточное условие сходимости\n",
    "max_norm = np.linalg.norm(B, ord=np.inf)\n",
    "max_norm\n",
    "# <1, следовательно, метод сходится"
   ]
  },
  {
   "cell_type": "code",
   "execution_count": 114,
   "id": "425c776d",
   "metadata": {},
   "outputs": [],
   "source": [
    "def zeidel(A, b, x0):\n",
    "    x = x0\n",
    "    count = 0\n",
    "    for k in range(10):\n",
    "        x_new = np.copy(x)\n",
    "        for i in range(6): \n",
    "            B1 = sum(-A[i][j]/A[i][i] * x_new[j] for j in range(i))\n",
    "            B2 = sum(-A[i][j]/A[i][i] * x[j] for j in range(i + 1, 6))\n",
    "            x_new[i] = b[i]/A[i][i] + B1 + B2\n",
    "        x = x_new\n",
    "    return x"
   ]
  },
  {
   "cell_type": "code",
   "execution_count": 115,
   "id": "607f572a",
   "metadata": {},
   "outputs": [
    {
     "name": "stdout",
     "output_type": "stream",
     "text": [
      "Ответ: [ 0.30302158  3.59997928  2.59997792  0.21212597 -0.99999927  2.4000035 ]\n",
      "Погрешность: 2.2084962623125648e-05\n"
     ]
    }
   ],
   "source": [
    "x0 = np.zeros(6)\n",
    "zeidel_solve = zeidel(A, b, x0)\n",
    "print(\"Ответ:\", zeidel_solve)\n",
    "print(\"Погрешность:\", np.max(np.abs(true_solve - zeidel_solve)))"
   ]
  },
  {
   "cell_type": "code",
   "execution_count": 117,
   "id": "44bafcb0",
   "metadata": {},
   "outputs": [
    {
     "name": "stdout",
     "output_type": "stream",
     "text": [
      "Ответ: [ 0.3030178   3.59998406  2.59998393  0.21212582 -0.99999731  2.40000315]\n",
      "Погрешность: 1.607173615836288e-05\n"
     ]
    }
   ],
   "source": [
    "# попробуем другое начальное приближение\n",
    "x0 = np.zeros(6)\n",
    "x0 += 0.5\n",
    "zeidel_solve = zeidel(A, b, x0)\n",
    "print(\"Ответ:\", zeidel_solve)\n",
    "print(\"Погрешность:\", np.max(np.abs(true_solve - zeidel_solve)))"
   ]
  },
  {
   "cell_type": "markdown",
   "id": "f9aa28a9",
   "metadata": {},
   "source": [
    "**Получаем, что метод Зейделя позволяет получить решение системы линейных уравнений и от выбора начального приближения зависит полученный результат. В целом, даже при 10 итерациях, метод показывает очень хорошую точность.**"
   ]
  },
  {
   "cell_type": "markdown",
   "id": "264c7798",
   "metadata": {},
   "source": [
    "### Задание 5.2\n",
    "\n",
    "Для системы уравнений $Ax = b$ из задачи 5.1 найти решение по методу Зейделя с точностью $\\varepsilon = 10^{−6}$, взяв любое начальное приближение. Для этого модифицировать программу из пункта 3 так, чтобы решение вычислялось с заданной точностью $\\varepsilon$. Предусмотреть подсчет количества итераций, потребовавшихся для достижения точности $\\varepsilon$."
   ]
  },
  {
   "cell_type": "code",
   "execution_count": 118,
   "id": "2bebb0e5",
   "metadata": {},
   "outputs": [],
   "source": [
    "# изменим функцию Зейделя, чтобы она подсчитывала количество итераций\n",
    "def zeidel_new(A, b, eps):\n",
    "    n = len(A)\n",
    "    iter_num = 0\n",
    "    x = [0. for i in range(n)]\n",
    "    accuracy = True\n",
    "    while accuracy:\n",
    "        iter_num += 1\n",
    "        x_new = np.copy(x)\n",
    "        for i in range(n): \n",
    "            B1 = sum(-A[i][j]/A[i][i] * x_new[j] for j in range(i))\n",
    "            B2 = sum(-A[i][j]/A[i][i] * x[j] for j in range(i + 1, n))\n",
    "            x_new[i] = b[i]/A[i][i] + B1 + B2\n",
    "        accuracy = np.max(np.abs(x_new - x)) > eps\n",
    "        x = x_new\n",
    "    return x, iter_num"
   ]
  },
  {
   "cell_type": "code",
   "execution_count": 119,
   "id": "89444a8f",
   "metadata": {},
   "outputs": [
    {
     "name": "stdout",
     "output_type": "stream",
     "text": [
      "Ответ: [ 0.30303002  3.60000003  2.60000007  0.21212125 -0.99999989  2.40000002]\n",
      "Итераций: 14\n"
     ]
    }
   ],
   "source": [
    "solve, iter_num = zeidel_new(A, b, 10**(-6))\n",
    "print(\"Ответ:\", solve)\n",
    "print(\"Итераций:\", iter_num)"
   ]
  },
  {
   "cell_type": "markdown",
   "id": "51cc7976",
   "metadata": {},
   "source": [
    "### Задание 5.6.8\n",
    "\n",
    "Дана система уравнений $Ax=b$, где $A$ – симметричная положительно определенная разреженная*\n",
    "матрица размерности $n * n$. Методом Зейделя найти решение системы с точностью $\\varepsilon = 10^{-9}$. Определить\n",
    "число итераций, потребовавшихся для достижения заданной точности."
   ]
  },
  {
   "cell_type": "markdown",
   "id": "140a2c50",
   "metadata": {},
   "source": [
    "на главной диагонали элементы равны 450, на первой\n",
    "наддиагонали элементы равны 55, на 7 наддиагонали\n",
    "элементы равны 7, на 8\n",
    "наддиагонали равны 2"
   ]
  },
  {
   "cell_type": "code",
   "execution_count": 188,
   "id": "723ede85",
   "metadata": {},
   "outputs": [
    {
     "data": {
      "text/plain": [
       "array([[450.,  55.,   0., ...,   0.,   0.,   0.],\n",
       "       [ 55., 450.,  55., ...,   0.,   0.,   0.],\n",
       "       [  0.,  55., 450., ...,   0.,   0.,   0.],\n",
       "       ...,\n",
       "       [  0.,   0.,   0., ..., 450.,  55.,   0.],\n",
       "       [  0.,   0.,   0., ...,   0., 450.,  55.],\n",
       "       [  0.,   0.,   0., ...,   0.,   0., 450.]])"
      ]
     },
     "execution_count": 188,
     "metadata": {},
     "output_type": "execute_result"
    }
   ],
   "source": [
    "# n = 10 # для проверки правильности создания матрицы\n",
    "n = 40\n",
    "A = np.zeros((n,n))\n",
    "for i in range(n):\n",
    "    A[i,i] = 450\n",
    "    \n",
    "    A[i,i+1:i+2] = 55\n",
    "    A[i,i-1:i] = 55\n",
    "    \n",
    "    A[i,i-8:i] = 2\n",
    "    A[i,i-7:i] = 0\n",
    "    \n",
    "    A[i,i+7:i+8] = 7\n",
    "    A[i,i-7:i] = 7\n",
    "    A[i,i-6:i] = 0\n",
    "    \n",
    "    A[i,i+8:i+9] = 2\n",
    "A"
   ]
  },
  {
   "cell_type": "code",
   "execution_count": 193,
   "id": "0b561185",
   "metadata": {},
   "outputs": [
    {
     "data": {
      "text/plain": [
       "array([ 148.4131591 ,   48.72997584,   47.65041045,   55.84548732,\n",
       "         67.95704571,   82.83513207,  100.09362644,  119.56774128,\n",
       "        141.17562889,  164.87212707,  190.63030951,  218.43313868,\n",
       "        248.26931376,  280.13104635,  314.01279564,  349.91051294,\n",
       "        387.8211715 ,  427.74246345,  469.67259852,  513.61016668,\n",
       "        559.55404236,  607.50331621,  657.45724558,  709.41521799,\n",
       "        763.37672385,  819.34133571,  877.30869238,  937.27848656,\n",
       "        999.25045514, 1063.22437158, 1129.20003972, 1197.17728888,\n",
       "       1267.15596986, 1339.13595165, 1413.11711875, 1489.09936893,\n",
       "       1567.08261139, 1647.06676521, 1729.05175801, 1813.03752491])"
      ]
     },
     "execution_count": 193,
     "metadata": {},
     "output_type": "execute_result"
    }
   ],
   "source": [
    "b = np.zeros(n)\n",
    "for i in range(n):\n",
    "    b[i] = (i+1)*(i+1)*np.e**(5/(i+1))\n",
    "b"
   ]
  },
  {
   "cell_type": "code",
   "execution_count": 194,
   "id": "30c59b5b",
   "metadata": {},
   "outputs": [
    {
     "name": "stdout",
     "output_type": "stream",
     "text": [
      "Ответ: [0.3186827  0.05394981 0.08160622 0.09280097 0.11440099 0.1378984\n",
      " 0.18513752 0.21680737 0.2605272  0.30649144 0.3554402  0.4082863\n",
      " 0.4650647  0.52539108 0.58979998 0.65802513 0.73008587 0.80601146\n",
      " 0.88578791 0.969411   1.05685993 1.14814126 1.2432546  1.34219721\n",
      " 1.44501189 1.55141279 1.66083094 1.77503857 1.89308486 2.01488516\n",
      " 2.14092876 2.26883332 2.40479144 2.60690083 2.75094432 2.89900441\n",
      " 3.04992206 3.21322399 3.31090362 3.98148071]\n",
      "Итераций: 12\n"
     ]
    }
   ],
   "source": [
    "solve, iter_num = zeidel_new(A, b, 10**(-9))\n",
    "print(\"Ответ:\", solve)\n",
    "print(\"Итераций:\", iter_num)"
   ]
  },
  {
   "cell_type": "code",
   "execution_count": null,
   "id": "7b692b9f",
   "metadata": {},
   "outputs": [],
   "source": []
  }
 ],
 "metadata": {
  "kernelspec": {
   "display_name": "Python 3 (ipykernel)",
   "language": "python",
   "name": "python3"
  },
  "language_info": {
   "codemirror_mode": {
    "name": "ipython",
    "version": 3
   },
   "file_extension": ".py",
   "mimetype": "text/x-python",
   "name": "python",
   "nbconvert_exporter": "python",
   "pygments_lexer": "ipython3",
   "version": "3.10.8"
  }
 },
 "nbformat": 4,
 "nbformat_minor": 5
}
