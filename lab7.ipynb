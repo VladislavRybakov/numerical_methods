{
 "cells": [
  {
   "cell_type": "markdown",
   "id": "05d7c419",
   "metadata": {},
   "source": [
    "# Лабораторная работа №7\n",
    "\n",
    "### Выполнил Рыбаков Владислав, БПМ201, 29 вариант\n",
    "\n",
    "Задания 7.1.29, 7.3.10, 7.5.5"
   ]
  },
  {
   "cell_type": "code",
   "execution_count": 1,
   "id": "3f902289",
   "metadata": {},
   "outputs": [],
   "source": [
    "import numpy as np\n",
    "import matplotlib.pyplot as plt"
   ]
  },
  {
   "cell_type": "markdown",
   "id": "fbec71c9",
   "metadata": {},
   "source": [
    "### Задание 7.1.29\n",
    "\n",
    "Найти приближенное решение задачи Коши для обыкновенного дифференциального уравнения (ОДУ) 1 порядка\n",
    "\n",
    "\\begin{equation*}\n",
    " \\begin{cases}\n",
    "   y'(t) = 3t^2y + t^2(1+t^3)/3, t \\in [0, 1],\n",
    "   \\\\\n",
    "   y(t_0) = 0\n",
    " \\end{cases}\n",
    "\\end{equation*}\n",
    "и оценить погрешность решения задачи."
   ]
  },
  {
   "cell_type": "code",
   "execution_count": 281,
   "id": "5a00f5b2",
   "metadata": {},
   "outputs": [],
   "source": [
    "h = 0.1\n",
    "N = 10\n",
    "t0 = 0\n",
    "T = 1\n",
    "y0 = 0"
   ]
  },
  {
   "cell_type": "code",
   "execution_count": 298,
   "id": "1113d59e",
   "metadata": {},
   "outputs": [],
   "source": [
    "def f(t, y):\n",
    "    return 3*t*t*y + t*t*(1+t**3)/3\n",
    "\n",
    "# метод эйлера\n",
    "def eyler(f, y0, t0, h, N):\n",
    "    y = y0\n",
    "    y_all = np.zeros(N, dtype=float)\n",
    "    y_all[0] = y\n",
    "    for i in range(N):\n",
    "        y = y + h * f(t0 + i*h, y)\n",
    "        y_all[i] = y\n",
    "    return y_all"
   ]
  },
  {
   "cell_type": "code",
   "execution_count": 299,
   "id": "ba75cf3b",
   "metadata": {},
   "outputs": [
    {
     "data": {
      "text/plain": [
       "array([0.        , 0.00033367, 0.00168167, 0.00480808, 0.01071353,\n",
       "       0.02089204, 0.03774039, 0.06522389, 0.11000288, 0.18341657])"
      ]
     },
     "execution_count": 299,
     "metadata": {},
     "output_type": "execute_result"
    }
   ],
   "source": [
    "y_ey = eyler(f, y0, t0, h, N)\n",
    "y_ey"
   ]
  },
  {
   "cell_type": "code",
   "execution_count": 300,
   "id": "0ad4516b",
   "metadata": {},
   "outputs": [],
   "source": [
    "# метод рунге-кутты 4-го порядка\n",
    "def runge_kutta_4(f, y0, t0, T, h, N):\n",
    "    y = y0\n",
    "    y_all = np.zeros(N, dtype=float)\n",
    "    y_all[0] = y\n",
    "    for i in range(N):\n",
    "        k1 = f(t0 + i*h, y)\n",
    "        k2 = f(t0 + i*h + h/2, y + h*k1/2)\n",
    "        k3 = f(t0 + i*h + h/2, y + h*k2/2)\n",
    "        k4 = f(t0 + i*h + h, y + h*k3)\n",
    "        y = y + h * (k1 + 2*k2 + 2*k3 + k4)/6\n",
    "        y_all[i] = y\n",
    "    return y_all"
   ]
  },
  {
   "cell_type": "code",
   "execution_count": 301,
   "id": "3ace9365",
   "metadata": {},
   "outputs": [
    {
     "data": {
      "text/plain": [
       "array([1.11225717e-04, 8.96039025e-04, 3.08177958e-03, 7.57615850e-03,\n",
       "       1.56997288e-02, 2.95783212e-02, 5.28150833e-02, 9.16936115e-02,\n",
       "       1.57442890e-01, 2.70718838e-01])"
      ]
     },
     "execution_count": 301,
     "metadata": {},
     "output_type": "execute_result"
    }
   ],
   "source": [
    "y_rk = runge_kutta_4(f, y0, t0, T, h, N)\n",
    "y_rk"
   ]
  },
  {
   "cell_type": "markdown",
   "id": "acbcc438",
   "metadata": {},
   "source": [
    "Найдем решение аналитически:\n",
    "$$y_{oo} = C e^{\\int t^2 dt} = C e^{t^3}$$\n",
    "\n",
    "$$y_{oo} = C(t) e^{t^3} $$\n",
    "\n",
    "$$y_{oo}' = C'(t) e^{t^3} + 3t^2 C(t)e^{t^3}$$\n",
    "\n",
    "Подставим в исходное уравнение:\n",
    "\n",
    "$$ C'(t) e^{t^3} + 3t^2 C(t)e^{t^3} = 3t^2 C(t)e^{t^3} + \\frac{t^2}{3} + \\frac{t^5}{3}$$\n",
    "\n",
    "$$ C'(t) e^{t^3} = \\frac{t^5}{3} + \\frac{t^2}{3}$$\n",
    "\n",
    "$$ C(t) = -\\frac{1}{9} e^{-t^3} (t^3 + 2) + C_1 $$\n",
    "\n",
    "$$ y = e^{t^3} \\left(-\\frac{1}{9} e^{-t^3} (t^3 + 2) + C_1 \\right) $$\n",
    "\n",
    "Учтем начальное условие $y(0) = 0$:\n",
    "\n",
    "$$ e^0 (-e^0 \\frac{2}{9} + C_1) = 0 => C_1=\\frac{2}{9} $$\n",
    "\n",
    "$$ y = \\frac{1}{9} (2 e^{t^3} - t^3 - 2) $$"
   ]
  },
  {
   "cell_type": "code",
   "execution_count": 302,
   "id": "662568d1",
   "metadata": {},
   "outputs": [],
   "source": [
    "# точное решение\n",
    "def analitic(t):\n",
    "    return (2*np.e**(t**3) - t**3 - 2)/9"
   ]
  },
  {
   "cell_type": "code",
   "execution_count": 303,
   "id": "a0c84b19",
   "metadata": {},
   "outputs": [
    {
     "data": {
      "image/png": "[encoded data removed]",
      "text/plain": [
       "<Figure size 640x480 with 1 Axes>"
      ]
     },
     "metadata": {},
     "output_type": "display_data"
    }
   ],
   "source": [
    "# построим чертеж\n",
    "x_an = np.arange(0, 1, 0.1)\n",
    "x = np.arange(0, 1, 0.1)\n",
    "y_an = [analitic(i+0.1) for i in x]\n",
    "\n",
    "plt.plot(x_an, y_an, color=\"orange\", label=\"Аналитическое решение\")\n",
    "plt.scatter(x, y_ey, color=\"blue\", label=\"Метод Эйлера\")\n",
    "plt.scatter(x, y_rk, color=\"green\", label=\"Метод Рунге-Кутты\")\n",
    "plt.legend()\n",
    "plt.show()"
   ]
  },
  {
   "cell_type": "code",
   "execution_count": 304,
   "id": "d15a1a6a",
   "metadata": {},
   "outputs": [
    {
     "name": "stdout",
     "output_type": "stream",
     "text": [
      "Аналитическое решение\tМетод Эйлера\tМетод Рунге-Кутты\n",
      "0.00011122225926854214\t0.0\t0.00011122571658181424\n",
      "0.0008960190009496611\t0.00033366666666666674\t0.0008960390248396608\n",
      "0.0030817339474420694\t0.001681670666666667\t0.0030817795759600294\n",
      "0.0075760886136678135\t0.004808075774666668\t0.007576158496055356\n",
      "0.015699656237072517\t0.010713530078517336\t0.015699728787300395\n",
      "0.029578306444593732\t0.020892044834406136\t0.029578321190685375\n",
      "0.05281528042810023\t0.037740385676522006\t0.052815083344555994\n",
      "0.091694468919926\t0.06522388903763741\t0.09169361151639772\n",
      "0.15744590316910934\t0.11000287573286381\t0.1574428900665958\n",
      "0.2707292952131211\t0.18341657453594973\t0.27071883811927927\n"
     ]
    }
   ],
   "source": [
    "# значения приближенных и точного решений\n",
    "print('Аналитическое решение', 'Метод Эйлера', 'Метод Рунге-Кутты', sep='\\t')\n",
    "for i in range(N):\n",
    "    print(y_an[i], y_ey[i], y_rk[i], sep='\\t')"
   ]
  },
  {
   "cell_type": "code",
   "execution_count": 305,
   "id": "412bc1eb",
   "metadata": {},
   "outputs": [
    {
     "name": "stdout",
     "output_type": "stream",
     "text": [
      "Погрешность метода Эйлера: 0.08731272067717138\n",
      "Погрешность метода Рунге-Кутты: 1.0457093841842457e-05\n"
     ]
    }
   ],
   "source": [
    "# погрешности\n",
    "eps_ey = np.max(np.abs(y_an - y_ey))\n",
    "eps_rk = np.max(np.abs(y_an - y_rk))\n",
    "print(\"Погрешность метода Эйлера:\", eps_ey)\n",
    "print(\"Погрешность метода Рунге-Кутты:\", eps_rk)"
   ]
  },
  {
   "cell_type": "code",
   "execution_count": 306,
   "id": "20b2a015",
   "metadata": {},
   "outputs": [],
   "source": [
    "h2 = h/2\n",
    "N2 = int((T-t0)/h2)"
   ]
  },
  {
   "cell_type": "code",
   "execution_count": 307,
   "id": "34c7345a",
   "metadata": {},
   "outputs": [],
   "source": [
    "y_ey_h2 = eyler(f, y0, t0, h2, N2)\n",
    "y_rk_h2 = runge_kutta_4(f, y0, t0, T, h2, N2)"
   ]
  },
  {
   "cell_type": "code",
   "execution_count": 313,
   "id": "d26b5b26",
   "metadata": {},
   "outputs": [],
   "source": [
    "z_ey = np.max(np.abs(y_ey - y_ey_h2[::2]))\n",
    "z_rk = np.max(np.abs(y_rk - y_rk_h2[::2])/15)"
   ]
  },
  {
   "cell_type": "code",
   "execution_count": 314,
   "id": "dd21a27b",
   "metadata": {},
   "outputs": [
    {
     "name": "stdout",
     "output_type": "stream",
     "text": [
      "Погрешность метода Эйлера по правилу Рунге: 0.013014053166262751\n",
      "Погрешность метода Рунге-Кутты по правилу Рунге: 0.004295679070186353\n"
     ]
    }
   ],
   "source": [
    "print(\"Погрешность метода Эйлера по правилу Рунге:\", z_ey)\n",
    "print(\"Погрешность метода Рунге-Кутты по правилу Рунге:\", z_rk)"
   ]
  },
  {
   "cell_type": "code",
   "execution_count": 316,
   "id": "8167275d",
   "metadata": {},
   "outputs": [
    {
     "name": "stdout",
     "output_type": "stream",
     "text": [
      "20 0.10032677384343414\n",
      "40 0.10680935645496953\n",
      "80 0.11004707676332831\n",
      "160 0.11166536447937708\n",
      "320 0.11247440511217399\n",
      "640 0.1128789045842786\n",
      "1280 0.11308114972753738\n",
      "2560 0.11318227122811333\n",
      "5120 0.11323283172027168\n",
      "10240 0.11325811190302165\n",
      "20480 0.11327075197871492\n",
      "40960 0.11327707201266132\n",
      "81920 0.11328023202865992\n",
      "163840 0.1132818120364179\n",
      "327680 0.11328260204023657\n",
      "655360 0.11328299704212644\n",
      "1310720 0.11328319454307265\n",
      "2621440 0.11328329329353959\n"
     ]
    },
    {
     "ename": "KeyboardInterrupt",
     "evalue": "",
     "output_type": "error",
     "traceback": [
      "\u001b[1;31m---------------------------------------------------------------------------\u001b[0m",
      "\u001b[1;31mKeyboardInterrupt\u001b[0m                         Traceback (most recent call last)",
      "Cell \u001b[1;32mIn [316], line 10\u001b[0m\n\u001b[0;32m      8\u001b[0m h_new \u001b[38;5;241m=\u001b[39m h_new\u001b[38;5;241m/\u001b[39m\u001b[38;5;241m2\u001b[39m\n\u001b[0;32m      9\u001b[0m N_new \u001b[38;5;241m=\u001b[39m N_new\u001b[38;5;241m*\u001b[39m\u001b[38;5;241m2\u001b[39m\n\u001b[1;32m---> 10\u001b[0m y_new \u001b[38;5;241m=\u001b[39m \u001b[43meyler\u001b[49m\u001b[43m(\u001b[49m\u001b[43mf\u001b[49m\u001b[43m,\u001b[49m\u001b[43m \u001b[49m\u001b[43my0\u001b[49m\u001b[43m,\u001b[49m\u001b[43m \u001b[49m\u001b[43mt0\u001b[49m\u001b[43m,\u001b[49m\u001b[43m \u001b[49m\u001b[43mh_new\u001b[49m\u001b[43m,\u001b[49m\u001b[43m \u001b[49m\u001b[43mN_new\u001b[49m\u001b[43m)\u001b[49m\n\u001b[0;32m     11\u001b[0m i \u001b[38;5;241m*\u001b[39m\u001b[38;5;241m=\u001b[39m \u001b[38;5;241m2\u001b[39m\n\u001b[0;32m     12\u001b[0m eps \u001b[38;5;241m=\u001b[39m np\u001b[38;5;241m.\u001b[39mmax(np\u001b[38;5;241m.\u001b[39mabs(y_an \u001b[38;5;241m-\u001b[39m y_new[::i]))\n",
      "Cell \u001b[1;32mIn [298], line 10\u001b[0m, in \u001b[0;36meyler\u001b[1;34m(f, y0, t0, h, N)\u001b[0m\n\u001b[0;32m      8\u001b[0m y_all[\u001b[38;5;241m0\u001b[39m] \u001b[38;5;241m=\u001b[39m y\n\u001b[0;32m      9\u001b[0m \u001b[38;5;28;01mfor\u001b[39;00m i \u001b[38;5;129;01min\u001b[39;00m \u001b[38;5;28mrange\u001b[39m(N):\n\u001b[1;32m---> 10\u001b[0m     y \u001b[38;5;241m=\u001b[39m y \u001b[38;5;241m+\u001b[39m h \u001b[38;5;241m*\u001b[39m \u001b[43mf\u001b[49m\u001b[43m(\u001b[49m\u001b[43mt0\u001b[49m\u001b[43m \u001b[49m\u001b[38;5;241;43m+\u001b[39;49m\u001b[43m \u001b[49m\u001b[43mi\u001b[49m\u001b[38;5;241;43m*\u001b[39;49m\u001b[43mh\u001b[49m\u001b[43m,\u001b[49m\u001b[43m \u001b[49m\u001b[43my\u001b[49m\u001b[43m)\u001b[49m\n\u001b[0;32m     11\u001b[0m     y_all[i] \u001b[38;5;241m=\u001b[39m y\n\u001b[0;32m     12\u001b[0m \u001b[38;5;28;01mreturn\u001b[39;00m y_all\n",
      "\u001b[1;31mKeyboardInterrupt\u001b[0m: "
     ]
    }
   ],
   "source": [
    "h_new = h2\n",
    "N_new = N2\n",
    "y_new = eyler(f, y0, t0, h_new, N_new)\n",
    "i = 2\n",
    "eps = np.max(np.abs(y_an - y_new[::i]))\n",
    "print(N_new, eps)\n",
    "while eps > eps_rk:\n",
    "    h_new = h_new/2\n",
    "    N_new = N_new*2\n",
    "    y_new = eyler(f, y0, t0, h_new, N_new)\n",
    "    i *= 2\n",
    "    eps = np.max(np.abs(y_an - y_new[::i]))\n",
    "    print(N_new, eps)\n",
    "    \n",
    "print(h_new)"
   ]
  },
  {
   "cell_type": "markdown",
   "id": "ac00f0c0",
   "metadata": {},
   "source": [
    "### Задание 7.3.10\n",
    "\n",
    "Решить приближенно задачу Коши для ОДУ 1 порядка вида (1), используя метод Рунге-Кутты 4\n",
    "порядка точности и метод Рунге-Кутты 3 порядка III с шагами $h$ и $h/2$ . Для каждого метода оценить\n",
    "погрешность по правилу Рунге и вычислить уточненное решение (см. ПРИЛОЖЕНИЕ 7.C). Построить на\n",
    "одном чертеже графики приближенных решений (с шагом $h / 2$) и графики уточненных решений.\n",
    "\n",
    "\\begin{equation*}\n",
    " \\begin{cases}\n",
    "   y'(t) = y \\tan{t} - \\frac{2}{3} y^4 \\sin{t}, t \\in [0,1],\n",
    "   \\\\\n",
    "   y(t_0) = 1\n",
    " \\end{cases}\n",
    "\\end{equation*}"
   ]
  },
  {
   "cell_type": "code",
   "execution_count": 263,
   "id": "b26d471d",
   "metadata": {},
   "outputs": [],
   "source": [
    "def f_73(t, y):\n",
    "    return y*np.tan(t) - 2/3 * y**4 *np.sin(t)"
   ]
  },
  {
   "cell_type": "code",
   "execution_count": 264,
   "id": "f0c58e71",
   "metadata": {},
   "outputs": [],
   "source": [
    "h = 0.1\n",
    "N = 10\n",
    "y0 = 1\n",
    "t0 = 0\n",
    "T = 1\n",
    "\n",
    "h2 = 0.05\n",
    "N2 = 20"
   ]
  },
  {
   "cell_type": "code",
   "execution_count": 265,
   "id": "85623285",
   "metadata": {},
   "outputs": [],
   "source": [
    "x = np.arange(0, 1, 0.1)\n",
    "\n",
    "y_rk4_h = runge_kutta_4(f_73, y0, t0, T, h, N)\n",
    "y_rk4_h2 = runge_kutta_4(f_73, y0, t0, T, h2, N2)"
   ]
  },
  {
   "cell_type": "code",
   "execution_count": 266,
   "id": "caa1520e",
   "metadata": {},
   "outputs": [],
   "source": [
    "# метод Рунге-Кутты 3 порядка III\n",
    "def runge_kutta_3(f, y0, t0, T, h, N):\n",
    "    y = y0\n",
    "    y_all = np.zeros(N, dtype=float)\n",
    "    y_all[0] = y\n",
    "    for i in range(N):\n",
    "        k1 = h*f(t0 + i*h, y)\n",
    "        k2 = h*f(t0 + i*h + h/2, y + k1/2)\n",
    "        k3 = h*f(t0 + i*h + 3*h/4, y + 3*k2/4)\n",
    "        y = y + (2*k1 + 3*k2 + 4*k3)/9\n",
    "        y_all[i] = y\n",
    "    return y_all"
   ]
  },
  {
   "cell_type": "code",
   "execution_count": 267,
   "id": "b8a19286",
   "metadata": {},
   "outputs": [],
   "source": [
    "y_rk3_h = runge_kutta_3(f_73, y0, t0, T, h, N)\n",
    "y_rk3_h2 = runge_kutta_3(f_73, y0, t0, T, h2, N2)"
   ]
  },
  {
   "cell_type": "code",
   "execution_count": 268,
   "id": "1045500f",
   "metadata": {},
   "outputs": [
    {
     "name": "stdout",
     "output_type": "stream",
     "text": [
      "Погрешность метода Рунге_Кутты 4: 0.001989547010976326\n",
      "Погрешность метода Рунге-Кутты 3: 0.00425007808857214\n"
     ]
    }
   ],
   "source": [
    "# погрешности\n",
    "eps_rk4 = np.abs(y_rk4_h2[::2] - y_rk4_h)/15\n",
    "eps_rk3 = np.abs(y_rk3_h2[::2] - y_rk3_h)/7\n",
    "print(\"Погрешность метода Рунге_Кутты 4:\", np.max(eps_rk4))\n",
    "print(\"Погрешность метода Рунге-Кутты 3:\", np.max(eps_rk3))"
   ]
  },
  {
   "cell_type": "code",
   "execution_count": 269,
   "id": "b81817e4",
   "metadata": {},
   "outputs": [],
   "source": [
    "# уточненные решения\n",
    "\n",
    "y_ut_4 = y_rk4_h2[::2] + eps_rk4\n",
    "y_ut_3 = y_rk3_h2[::2] + eps_rk3"
   ]
  },
  {
   "cell_type": "code",
   "execution_count": 270,
   "id": "110c2d6d",
   "metadata": {},
   "outputs": [
    {
     "data": {
      "image/png": "[encoded data removed]",
      "text/plain": [
       "<Figure size 640x480 with 1 Axes>"
      ]
     },
     "metadata": {},
     "output_type": "display_data"
    }
   ],
   "source": [
    "plt.plot(x, y_rk4_h2[::2], color=\"orange\", label=\"Приближенное решение РК4\")\n",
    "plt.scatter(x, y_rk3_h2[::2], color=\"blue\", label=\"Приближенное решение РК3\")\n",
    "plt.scatter(x, y_ut_4, color=\"green\", label=\"Уточненное решение РК4\")\n",
    "plt.scatter(x, y_ut_3, color=\"red\", label=\"Уточненное решение РК3\")\n",
    "plt.legend()\n",
    "plt.show()"
   ]
  },
  {
   "cell_type": "markdown",
   "id": "7a1fac1f",
   "metadata": {},
   "source": [
    "### Задание 7.5.5\n",
    "\n",
    "Дана жесткая задача Коши вида (1). Найти решение задачи с заданной точностью $ \\varepsilon = 10^{-3}$\n",
    "\n",
    "\\begin{equation*}\n",
    " \\begin{cases}\n",
    "   y'(t) = -30y + \\sin (2t) + 30 \\sin^2(t), t \\in [0, 1.5],\n",
    "   \\\\\n",
    "   y(t_0) = 1\n",
    " \\end{cases}\n",
    "\\end{equation*}"
   ]
  },
  {
   "cell_type": "code",
   "execution_count": 271,
   "id": "ecfb8fbf",
   "metadata": {},
   "outputs": [],
   "source": [
    "h = 0.15\n",
    "N = 10\n",
    "eps = 0.001\n",
    "t0 = 0\n",
    "T = 1.5\n",
    "y0 = 1\n",
    "\n",
    "def f_75(t, y):\n",
    "    return -30*y + np.sin(2*t) + 30*np.sin(t)**2"
   ]
  },
  {
   "cell_type": "code",
   "execution_count": 272,
   "id": "357f90c1",
   "metadata": {},
   "outputs": [
    {
     "data": {
      "text/plain": [
       "array([ 1.00000000e+00, -3.35517907e+00,  1.22208180e+01, -4.18039863e+01,\n",
       "        1.47888453e+02, -5.15369120e+02,  1.80669920e+03, -6.31993182e+03,\n",
       "        2.21237718e+04, -7.74288532e+04])"
      ]
     },
     "execution_count": 272,
     "metadata": {},
     "output_type": "execute_result"
    }
   ],
   "source": [
    "y_ey = eyler(f_75, y0, t0, h, N)\n",
    "y_ey"
   ]
  },
  {
   "cell_type": "code",
   "execution_count": 273,
   "id": "0677839c",
   "metadata": {},
   "outputs": [
    {
     "data": {
      "text/plain": [
       "array([8.58830167e+00, 7.31385654e+01, 6.22870182e+02, 5.30772533e+03,\n",
       "       4.52378248e+04, 3.85578426e+05, 3.28644912e+06, 2.80118381e+07,\n",
       "       2.38757145e+08, 2.03503160e+09])"
      ]
     },
     "execution_count": 273,
     "metadata": {},
     "output_type": "execute_result"
    }
   ],
   "source": [
    "y_rk = runge_kutta_4(f_75, y0, t0, T, h, N)\n",
    "y_rk"
   ]
  },
  {
   "cell_type": "code",
   "execution_count": 274,
   "id": "695a66fd",
   "metadata": {},
   "outputs": [
    {
     "data": {
      "text/plain": [
       "array([1.        , 0.03344075, 0.0874556 , 0.18919639, 0.31882114,\n",
       "       0.4646314 , 0.61360105, 0.75242305, 0.86869686, 0.95203607])"
      ]
     },
     "execution_count": 274,
     "metadata": {},
     "output_type": "execute_result"
    }
   ],
   "source": [
    "x = np.arange(0, 1.5, 0.15)\n",
    "\n",
    "# точное решение\n",
    "y_toch = np.sin(x)**2 + np.e**(-30 * x)\n",
    "y_toch"
   ]
  },
  {
   "cell_type": "code",
   "execution_count": 275,
   "id": "5e4dfaa6",
   "metadata": {},
   "outputs": [
    {
     "data": {
      "image/png": "[encoded data removed]",
      "text/plain": [
       "<Figure size 640x480 with 1 Axes>"
      ]
     },
     "metadata": {},
     "output_type": "display_data"
    }
   ],
   "source": [
    "plt.plot(x, y_toch, color=\"orange\", label=\"Точное решение\")\n",
    "plt.scatter(x, y_ey, color=\"blue\", label=\"Приближенное решение Эйлера\")\n",
    "plt.scatter(x, y_rk, color=\"green\", label=\"Приближенное решение РК4\")\n",
    "plt.legend()\n",
    "plt.show()"
   ]
  },
  {
   "cell_type": "markdown",
   "id": "f243a28e",
   "metadata": {},
   "source": [
    "**Поскольку задача жесктая и наши методы явные и не являются A-устойчивыми, то получается неправильное решение, нужно брать меньше шаг h**"
   ]
  },
  {
   "cell_type": "code",
   "execution_count": 276,
   "id": "782fab08",
   "metadata": {},
   "outputs": [
    {
     "name": "stdout",
     "output_type": "stream",
     "text": [
      "0.0005859375 2560\n"
     ]
    }
   ],
   "source": [
    "# решение задачи методом эйлера с заданной точностью\n",
    "h_new = h/2\n",
    "N_new = N*2\n",
    "y_new = eyler(f_75, y0, t0, h_new, N_new)\n",
    "i = 2\n",
    "eps_new = np.max(np.abs(y_toch - y_new[::i]))\n",
    "while eps_new > eps:\n",
    "    h_new = h_new/2\n",
    "    N_new = N_new*2\n",
    "    y_new = eyler(f_75, y0, t0, h_new, N_new)\n",
    "    i *= 2\n",
    "    eps_new = np.max(np.abs(y_toch - y_new[::i]))\n",
    "    \n",
    "print(h_new, N_new)\n",
    "\n",
    "y_ey_new = np.copy(y_new)"
   ]
  },
  {
   "cell_type": "code",
   "execution_count": 277,
   "id": "8b5a959b",
   "metadata": {},
   "outputs": [
    {
     "name": "stdout",
     "output_type": "stream",
     "text": [
      "1.8310546875e-05 81920\n"
     ]
    }
   ],
   "source": [
    "# решение задачи методом рунге-кутты с заданной точностью\n",
    "h_new = h/2\n",
    "N_new = N*2\n",
    "y_new = runge_kutta_4(f_75, y0, t0, T, h_new, N_new)\n",
    "i = 2\n",
    "eps_new = np.max(np.abs(y_toch - y_new[::i]))\n",
    "while eps_new > eps:\n",
    "    h_new = h_new/2\n",
    "    N_new = N_new*2\n",
    "    y_new = runge_kutta_4(f_75, y0, t0, T, h_new, N_new)\n",
    "    i *= 2\n",
    "    eps_new = np.max(np.abs(y_toch - y_new[::i]))\n",
    "    \n",
    "print(h_new, N_new)\n",
    "\n",
    "y_rk_new = np.copy(y_new)"
   ]
  },
  {
   "cell_type": "code",
   "execution_count": 280,
   "id": "5ade7adf",
   "metadata": {},
   "outputs": [
    {
     "data": {
      "image/png": "[encoded data removed]",
      "text/plain": [
       "<Figure size 640x480 with 1 Axes>"
      ]
     },
     "metadata": {},
     "output_type": "display_data"
    }
   ],
   "source": [
    "plt.plot(x, y_toch, color=\"orange\", label=\"Точное решение\")\n",
    "#plt.scatter(x, y_ey, color=\"blue\", label=\"Приближенное решение Эйлера\")\n",
    "#plt.scatter(x, y_rk, color=\"green\", label=\"Приближенное решение РК4\")\n",
    "plt.scatter(x, y_ey_new[::256], color=\"purple\", label=\"Приближенное решение Эйлера (новое)\")\n",
    "plt.scatter(x, y_rk_new[::8192], color=\"red\", label=\"Приближенное решение РК4 (новое)\")\n",
    "plt.legend()\n",
    "plt.show()"
   ]
  },
  {
   "cell_type": "markdown",
   "id": "09961c35",
   "metadata": {},
   "source": [
    "**Получили правильное решение с заданной точностью. Причем метод Эйлера потребовал разбиение отрезка на меньшее число подотрезков, чем метод Рунге-Кутты.**\n"
   ]
  },
  {
   "cell_type": "code",
   "execution_count": null,
   "id": "97835691",
   "metadata": {},
   "outputs": [],
   "source": []
  },
  {
   "cell_type": "code",
   "execution_count": null,
   "id": "6d87cb6b",
   "metadata": {},
   "outputs": [],
   "source": []
  },
  {
   "cell_type": "code",
   "execution_count": null,
   "id": "892be9d6",
   "metadata": {},
   "outputs": [],
   "source": []
  },
  {
   "cell_type": "code",
   "execution_count": null,
   "id": "0946399a",
   "metadata": {},
   "outputs": [],
   "source": []
  },
  {
   "cell_type": "code",
   "execution_count": null,
   "id": "ee03b1f3",
   "metadata": {},
   "outputs": [],
   "source": []
  },
  {
   "cell_type": "code",
   "execution_count": null,
   "id": "9dae81e4",
   "metadata": {},
   "outputs": [],
   "source": []
  },
  {
   "cell_type": "code",
   "execution_count": null,
   "id": "d88bdb5b",
   "metadata": {},
   "outputs": [],
   "source": []
  },
  {
   "cell_type": "code",
   "execution_count": null,
   "id": "02fd274b",
   "metadata": {},
   "outputs": [],
   "source": []
  },
  {
   "cell_type": "code",
   "execution_count": null,
   "id": "e8870de0",
   "metadata": {},
   "outputs": [],
   "source": []
  }
 ],
 "metadata": {
  "kernelspec": {
   "display_name": "Python 3 (ipykernel)",
   "language": "python",
   "name": "python3"
  },
  "language_info": {
   "codemirror_mode": {
    "name": "ipython",
    "version": 3
   },
   "file_extension": ".py",
   "mimetype": "text/x-python",
   "name": "python",
   "nbconvert_exporter": "python",
   "pygments_lexer": "ipython3",
   "version": "3.10.8"
  }
 },
 "nbformat": 4,
 "nbformat_minor": 5
}
